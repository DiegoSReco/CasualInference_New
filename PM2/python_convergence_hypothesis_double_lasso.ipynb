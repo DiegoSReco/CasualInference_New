{
  "cells": [
    {
      "cell_type": "markdown",
      "metadata": {
        "id": "yUStykVPstO-"
      },
      "source": [
        "Authors: Andreas Haupt, Jannis Kück, Alexander Quispe and Anzony Quispe, Vasilis Syrgkanis"
      ]
    },
    {
      "cell_type": "markdown",
      "metadata": {
        "id": "UYchb-zYstPD"
      },
      "source": [
        "# Testing the Convergence Hypothesis"
      ]
    },
    {
      "cell_type": "code",
      "execution_count": 5,
      "metadata": {
        "colab": {
          "base_uri": "https://localhost:8080/"
        },
        "id": "wUf3nUm6stPE",
        "outputId": "f70ff789-8252-4bdc-f14a-869bdd9b6e68"
      },
      "outputs": [
        {
          "output_type": "stream",
          "name": "stdout",
          "text": [
            "Requirement already satisfied: multiprocess in /usr/local/lib/python3.11/dist-packages (0.70.16)\n",
            "Requirement already satisfied: dill>=0.3.8 in /usr/local/lib/python3.11/dist-packages (from multiprocess) (0.3.8)\n",
            "Collecting pyreadr\n",
            "  Downloading pyreadr-0.5.3-cp311-cp311-manylinux_2_17_x86_64.manylinux2014_x86_64.whl.metadata (1.4 kB)\n",
            "Requirement already satisfied: pandas>=1.2.0 in /usr/local/lib/python3.11/dist-packages (from pyreadr) (2.2.2)\n",
            "Requirement already satisfied: numpy>=1.23.2 in /usr/local/lib/python3.11/dist-packages (from pandas>=1.2.0->pyreadr) (2.0.2)\n",
            "Requirement already satisfied: python-dateutil>=2.8.2 in /usr/local/lib/python3.11/dist-packages (from pandas>=1.2.0->pyreadr) (2.9.0.post0)\n",
            "Requirement already satisfied: pytz>=2020.1 in /usr/local/lib/python3.11/dist-packages (from pandas>=1.2.0->pyreadr) (2025.2)\n",
            "Requirement already satisfied: tzdata>=2022.7 in /usr/local/lib/python3.11/dist-packages (from pandas>=1.2.0->pyreadr) (2025.2)\n",
            "Requirement already satisfied: six>=1.5 in /usr/local/lib/python3.11/dist-packages (from python-dateutil>=2.8.2->pandas>=1.2.0->pyreadr) (1.17.0)\n",
            "Downloading pyreadr-0.5.3-cp311-cp311-manylinux_2_17_x86_64.manylinux2014_x86_64.whl (411 kB)\n",
            "\u001b[2K   \u001b[90m━━━━━━━━━━━━━━━━━━━━━━━━━━━━━━━━━━━━━━━━\u001b[0m \u001b[32m411.7/411.7 kB\u001b[0m \u001b[31m2.1 MB/s\u001b[0m eta \u001b[36m0:00:00\u001b[0m\n",
            "\u001b[?25hInstalling collected packages: pyreadr\n",
            "Successfully installed pyreadr-0.5.3\n",
            "Cloning into 'hdmpy'...\n",
            "remote: Enumerating objects: 89, done.\u001b[K\n",
            "remote: Counting objects: 100% (89/89), done.\u001b[K\n",
            "remote: Compressing objects: 100% (66/66), done.\u001b[K\n",
            "remote: Total 89 (delta 47), reused 63 (delta 23), pack-reused 0 (from 0)\u001b[K\n",
            "Receiving objects: 100% (89/89), 28.88 KiB | 3.61 MiB/s, done.\n",
            "Resolving deltas: 100% (47/47), done.\n"
          ]
        }
      ],
      "source": [
        "!pip install multiprocess\n",
        "!pip install pyreadr\n",
        "!git clone https://github.com/maxhuppertz/hdmpy.git"
      ]
    },
    {
      "cell_type": "code",
      "execution_count": 6,
      "metadata": {
        "colab": {
          "base_uri": "https://localhost:8080/"
        },
        "id": "_T9cPLQs3iJt",
        "outputId": "21019365-b204-4621-ba11-bf35f3e973ff"
      },
      "outputs": [
        {
          "output_type": "stream",
          "name": "stdout",
          "text": [
            "Collecting wget\n",
            "  Downloading wget-3.2.zip (10 kB)\n",
            "  Preparing metadata (setup.py) ... \u001b[?25l\u001b[?25hdone\n",
            "Building wheels for collected packages: wget\n",
            "  Building wheel for wget (setup.py) ... \u001b[?25l\u001b[?25hdone\n",
            "  Created wheel for wget: filename=wget-3.2-py3-none-any.whl size=9655 sha256=91a3390677a88f8474a37ec5b1e6ccd0da1de34484b65d2bfd10745e6293a7a6\n",
            "  Stored in directory: /root/.cache/pip/wheels/40/b3/0f/a40dbd1c6861731779f62cc4babcb234387e11d697df70ee97\n",
            "Successfully built wget\n",
            "Installing collected packages: wget\n",
            "Successfully installed wget-3.2\n"
          ]
        }
      ],
      "source": [
        "!pip install wget # for data loading"
      ]
    },
    {
      "cell_type": "code",
      "execution_count": 7,
      "metadata": {
        "id": "bYy0blnFstPG"
      },
      "outputs": [],
      "source": [
        "import sys\n",
        "import wget\n",
        "import hdmpy\n",
        "import pandas as pd\n",
        "import numpy as np\n",
        "import matplotlib.pyplot as plt\n",
        "import warnings\n",
        "warnings.simplefilter('ignore')"
      ]
    },
    {
      "cell_type": "code",
      "execution_count": 8,
      "metadata": {
        "id": "HMXjmGpDstPG"
      },
      "outputs": [],
      "source": [
        "from pyreadr import read_r\n",
        "\n",
        "sys.path.insert(1, \"./hdmpy\")"
      ]
    },
    {
      "cell_type": "markdown",
      "metadata": {
        "id": "lJ4tQ_uestPH"
      },
      "source": [
        "## Introduction"
      ]
    },
    {
      "cell_type": "markdown",
      "metadata": {
        "id": "9S5-dpYIstPH"
      },
      "source": [
        "We provide an additional empirical example of partialling-out with Lasso to estimate the regression coefficient $\\beta_1$ in the high-dimensional linear regression model:\n",
        "  $$\n",
        "  Y = \\beta_1 D +  \\beta_2'W + \\epsilon.\n",
        "  $$\n",
        "  \n",
        "Specifically, we are interested in how the rates  at which economies of different countries grow ($Y$) are related to the initial wealth levels in each country ($D$) controlling for country's institutional, educational, and other similar characteristics ($W$).\n",
        "  \n",
        "The relationship is captured by $\\beta_1$, the *speed of convergence/divergence*, which measures the speed at which poor countries catch up $(\\beta_1< 0)$ or fall behind $(\\beta_1> 0)$ rich countries, after controlling for $W$. Our inference question here is: do poor countries grow faster than rich countries, controlling for educational and other characteristics? In other words, is the speed of convergence negative: $ \\beta_1 <0?$ This is the Convergence Hypothesis predicted by the Solow Growth Model. This is a structural economic model. Under some strong assumptions, that we won't state here, the predictive exercise we are doing here can be given causal interpretation.\n"
      ]
    },
    {
      "cell_type": "markdown",
      "metadata": {
        "id": "7BUqjAIBstPI"
      },
      "source": [
        "The outcome $Y$ is the realized annual growth rate of a country's wealth  (Gross Domestic Product per capita). The target regressor ($D$) is the initial level of the country's wealth. The target parameter $\\beta_1$ is the speed of convergence, which measures the speed at which poor countries catch up with rich countries. The controls ($W$) include measures of education levels, quality of institutions, trade openness, and political stability in the country."
      ]
    },
    {
      "cell_type": "markdown",
      "metadata": {
        "id": "jOnK7_gdstPJ"
      },
      "source": [
        "## Data analysis\n"
      ]
    },
    {
      "cell_type": "markdown",
      "metadata": {
        "id": "cVnFmY0YstPK"
      },
      "source": [
        "We consider the data set GrowthData which is included in the package *hdm*. First, let us load the data set to get familiar with the data."
      ]
    },
    {
      "cell_type": "code",
      "execution_count": 9,
      "metadata": {
        "id": "bgEZMfsgstPK"
      },
      "outputs": [],
      "source": [
        "# I downloaded the data that the author used\n",
        "fname = \"https://github.com/CausalAIBook/MetricsMLNotebooks/blob/main/data/GrowthData.rda?raw=true\"\n",
        "growth_read = read_r(wget.download(fname))\n",
        "\n",
        "# Extracting the data frame from rdata_read\n",
        "growth = growth_read['GrowthData']"
      ]
    },
    {
      "cell_type": "code",
      "source": [
        "growth"
      ],
      "metadata": {
        "id": "w7Yuzh2EwLA-",
        "outputId": "5d3f63d5-db84-47e6-ac3c-b8e8d069569f",
        "colab": {
          "base_uri": "https://localhost:8080/",
          "height": 444
        }
      },
      "execution_count": 10,
      "outputs": [
        {
          "output_type": "execute_result",
          "data": {
            "text/plain": [
              "     Outcome  intercept  gdpsh465   bmp1l    freeop   freetar    h65   hm65  \\\n",
              "0  -0.024336          1  6.591674  0.2837  0.153491  0.043888  0.007  0.013   \n",
              "1   0.100473          1  6.829794  0.6141  0.313509  0.061827  0.019  0.032   \n",
              "2   0.067051          1  8.895082  0.0000  0.204244  0.009186  0.260  0.325   \n",
              "3   0.064089          1  7.565275  0.1997  0.248714  0.036270  0.061  0.070   \n",
              "4   0.027930          1  7.162397  0.1740  0.299252  0.037367  0.017  0.027   \n",
              "..       ...        ...       ...     ...       ...       ...    ...    ...   \n",
              "85  0.031196          1  8.991064  0.0000  0.371898  0.014586  0.255  0.336   \n",
              "86  0.034096          1  8.025189  0.0050  0.296437  0.013615  0.108  0.117   \n",
              "87  0.046900          1  9.030137  0.0000  0.265778  0.008629  0.288  0.337   \n",
              "88  0.039773          1  8.865312  0.0000  0.282939  0.005048  0.188  0.236   \n",
              "89  0.040642          1  8.912339  0.0000  0.150366  0.024377  0.257  0.338   \n",
              "\n",
              "     hf65   p65  ...  seccf65  syr65  syrm65  syrf65  teapri65  teasec65  \\\n",
              "0   0.001  0.29  ...     0.04  0.033   0.057   0.010      47.6      17.3   \n",
              "1   0.007  0.91  ...     0.64  0.173   0.274   0.067      57.1      18.0   \n",
              "2   0.201  1.00  ...    18.14  2.573   2.478   2.667      26.5      20.7   \n",
              "3   0.051  1.00  ...     2.63  0.438   0.453   0.424      27.8      22.7   \n",
              "4   0.007  0.82  ...     2.11  0.257   0.287   0.229      34.5      17.6   \n",
              "..    ...   ...  ...      ...    ...     ...     ...       ...       ...   \n",
              "85  0.170  0.98  ...    11.41  2.226   2.494   1.971      27.5      15.9   \n",
              "86  0.093  1.00  ...     1.95  0.510   0.694   0.362      20.2      15.7   \n",
              "87  0.237  1.00  ...    25.64  2.727   2.664   2.788      20.4       9.4   \n",
              "88  0.139  1.00  ...    10.76  1.888   1.920   1.860      20.0      16.0   \n",
              "89  0.215  1.00  ...    24.40  3.051   3.235   2.875      18.5      29.1   \n",
              "\n",
              "       ex1     im1    xr65      tot1  \n",
              "0   0.0729  0.0667   0.348 -0.014727  \n",
              "1   0.0940  0.1438   0.525  0.005750  \n",
              "2   0.1741  0.1750   1.082 -0.010040  \n",
              "3   0.1265  0.1496   6.625 -0.002195  \n",
              "4   0.1211  0.1308   2.500  0.003283  \n",
              "..     ...     ...     ...       ...  \n",
              "85  0.4407  0.4257   2.529 -0.011883  \n",
              "86  0.1669  0.2201  25.553 -0.039080  \n",
              "87  0.3238  0.3134   4.152  0.005175  \n",
              "88  0.1845  0.1940   0.452 -0.029551  \n",
              "89  0.1876  0.2007   0.886 -0.036482  \n",
              "\n",
              "[90 rows x 63 columns]"
            ],
            "text/html": [
              "\n",
              "  <div id=\"df-6f91b8f6-a483-4da9-8b69-96f1cda2179e\" class=\"colab-df-container\">\n",
              "    <div>\n",
              "<style scoped>\n",
              "    .dataframe tbody tr th:only-of-type {\n",
              "        vertical-align: middle;\n",
              "    }\n",
              "\n",
              "    .dataframe tbody tr th {\n",
              "        vertical-align: top;\n",
              "    }\n",
              "\n",
              "    .dataframe thead th {\n",
              "        text-align: right;\n",
              "    }\n",
              "</style>\n",
              "<table border=\"1\" class=\"dataframe\">\n",
              "  <thead>\n",
              "    <tr style=\"text-align: right;\">\n",
              "      <th></th>\n",
              "      <th>Outcome</th>\n",
              "      <th>intercept</th>\n",
              "      <th>gdpsh465</th>\n",
              "      <th>bmp1l</th>\n",
              "      <th>freeop</th>\n",
              "      <th>freetar</th>\n",
              "      <th>h65</th>\n",
              "      <th>hm65</th>\n",
              "      <th>hf65</th>\n",
              "      <th>p65</th>\n",
              "      <th>...</th>\n",
              "      <th>seccf65</th>\n",
              "      <th>syr65</th>\n",
              "      <th>syrm65</th>\n",
              "      <th>syrf65</th>\n",
              "      <th>teapri65</th>\n",
              "      <th>teasec65</th>\n",
              "      <th>ex1</th>\n",
              "      <th>im1</th>\n",
              "      <th>xr65</th>\n",
              "      <th>tot1</th>\n",
              "    </tr>\n",
              "  </thead>\n",
              "  <tbody>\n",
              "    <tr>\n",
              "      <th>0</th>\n",
              "      <td>-0.024336</td>\n",
              "      <td>1</td>\n",
              "      <td>6.591674</td>\n",
              "      <td>0.2837</td>\n",
              "      <td>0.153491</td>\n",
              "      <td>0.043888</td>\n",
              "      <td>0.007</td>\n",
              "      <td>0.013</td>\n",
              "      <td>0.001</td>\n",
              "      <td>0.29</td>\n",
              "      <td>...</td>\n",
              "      <td>0.04</td>\n",
              "      <td>0.033</td>\n",
              "      <td>0.057</td>\n",
              "      <td>0.010</td>\n",
              "      <td>47.6</td>\n",
              "      <td>17.3</td>\n",
              "      <td>0.0729</td>\n",
              "      <td>0.0667</td>\n",
              "      <td>0.348</td>\n",
              "      <td>-0.014727</td>\n",
              "    </tr>\n",
              "    <tr>\n",
              "      <th>1</th>\n",
              "      <td>0.100473</td>\n",
              "      <td>1</td>\n",
              "      <td>6.829794</td>\n",
              "      <td>0.6141</td>\n",
              "      <td>0.313509</td>\n",
              "      <td>0.061827</td>\n",
              "      <td>0.019</td>\n",
              "      <td>0.032</td>\n",
              "      <td>0.007</td>\n",
              "      <td>0.91</td>\n",
              "      <td>...</td>\n",
              "      <td>0.64</td>\n",
              "      <td>0.173</td>\n",
              "      <td>0.274</td>\n",
              "      <td>0.067</td>\n",
              "      <td>57.1</td>\n",
              "      <td>18.0</td>\n",
              "      <td>0.0940</td>\n",
              "      <td>0.1438</td>\n",
              "      <td>0.525</td>\n",
              "      <td>0.005750</td>\n",
              "    </tr>\n",
              "    <tr>\n",
              "      <th>2</th>\n",
              "      <td>0.067051</td>\n",
              "      <td>1</td>\n",
              "      <td>8.895082</td>\n",
              "      <td>0.0000</td>\n",
              "      <td>0.204244</td>\n",
              "      <td>0.009186</td>\n",
              "      <td>0.260</td>\n",
              "      <td>0.325</td>\n",
              "      <td>0.201</td>\n",
              "      <td>1.00</td>\n",
              "      <td>...</td>\n",
              "      <td>18.14</td>\n",
              "      <td>2.573</td>\n",
              "      <td>2.478</td>\n",
              "      <td>2.667</td>\n",
              "      <td>26.5</td>\n",
              "      <td>20.7</td>\n",
              "      <td>0.1741</td>\n",
              "      <td>0.1750</td>\n",
              "      <td>1.082</td>\n",
              "      <td>-0.010040</td>\n",
              "    </tr>\n",
              "    <tr>\n",
              "      <th>3</th>\n",
              "      <td>0.064089</td>\n",
              "      <td>1</td>\n",
              "      <td>7.565275</td>\n",
              "      <td>0.1997</td>\n",
              "      <td>0.248714</td>\n",
              "      <td>0.036270</td>\n",
              "      <td>0.061</td>\n",
              "      <td>0.070</td>\n",
              "      <td>0.051</td>\n",
              "      <td>1.00</td>\n",
              "      <td>...</td>\n",
              "      <td>2.63</td>\n",
              "      <td>0.438</td>\n",
              "      <td>0.453</td>\n",
              "      <td>0.424</td>\n",
              "      <td>27.8</td>\n",
              "      <td>22.7</td>\n",
              "      <td>0.1265</td>\n",
              "      <td>0.1496</td>\n",
              "      <td>6.625</td>\n",
              "      <td>-0.002195</td>\n",
              "    </tr>\n",
              "    <tr>\n",
              "      <th>4</th>\n",
              "      <td>0.027930</td>\n",
              "      <td>1</td>\n",
              "      <td>7.162397</td>\n",
              "      <td>0.1740</td>\n",
              "      <td>0.299252</td>\n",
              "      <td>0.037367</td>\n",
              "      <td>0.017</td>\n",
              "      <td>0.027</td>\n",
              "      <td>0.007</td>\n",
              "      <td>0.82</td>\n",
              "      <td>...</td>\n",
              "      <td>2.11</td>\n",
              "      <td>0.257</td>\n",
              "      <td>0.287</td>\n",
              "      <td>0.229</td>\n",
              "      <td>34.5</td>\n",
              "      <td>17.6</td>\n",
              "      <td>0.1211</td>\n",
              "      <td>0.1308</td>\n",
              "      <td>2.500</td>\n",
              "      <td>0.003283</td>\n",
              "    </tr>\n",
              "    <tr>\n",
              "      <th>...</th>\n",
              "      <td>...</td>\n",
              "      <td>...</td>\n",
              "      <td>...</td>\n",
              "      <td>...</td>\n",
              "      <td>...</td>\n",
              "      <td>...</td>\n",
              "      <td>...</td>\n",
              "      <td>...</td>\n",
              "      <td>...</td>\n",
              "      <td>...</td>\n",
              "      <td>...</td>\n",
              "      <td>...</td>\n",
              "      <td>...</td>\n",
              "      <td>...</td>\n",
              "      <td>...</td>\n",
              "      <td>...</td>\n",
              "      <td>...</td>\n",
              "      <td>...</td>\n",
              "      <td>...</td>\n",
              "      <td>...</td>\n",
              "      <td>...</td>\n",
              "    </tr>\n",
              "    <tr>\n",
              "      <th>85</th>\n",
              "      <td>0.031196</td>\n",
              "      <td>1</td>\n",
              "      <td>8.991064</td>\n",
              "      <td>0.0000</td>\n",
              "      <td>0.371898</td>\n",
              "      <td>0.014586</td>\n",
              "      <td>0.255</td>\n",
              "      <td>0.336</td>\n",
              "      <td>0.170</td>\n",
              "      <td>0.98</td>\n",
              "      <td>...</td>\n",
              "      <td>11.41</td>\n",
              "      <td>2.226</td>\n",
              "      <td>2.494</td>\n",
              "      <td>1.971</td>\n",
              "      <td>27.5</td>\n",
              "      <td>15.9</td>\n",
              "      <td>0.4407</td>\n",
              "      <td>0.4257</td>\n",
              "      <td>2.529</td>\n",
              "      <td>-0.011883</td>\n",
              "    </tr>\n",
              "    <tr>\n",
              "      <th>86</th>\n",
              "      <td>0.034096</td>\n",
              "      <td>1</td>\n",
              "      <td>8.025189</td>\n",
              "      <td>0.0050</td>\n",
              "      <td>0.296437</td>\n",
              "      <td>0.013615</td>\n",
              "      <td>0.108</td>\n",
              "      <td>0.117</td>\n",
              "      <td>0.093</td>\n",
              "      <td>1.00</td>\n",
              "      <td>...</td>\n",
              "      <td>1.95</td>\n",
              "      <td>0.510</td>\n",
              "      <td>0.694</td>\n",
              "      <td>0.362</td>\n",
              "      <td>20.2</td>\n",
              "      <td>15.7</td>\n",
              "      <td>0.1669</td>\n",
              "      <td>0.2201</td>\n",
              "      <td>25.553</td>\n",
              "      <td>-0.039080</td>\n",
              "    </tr>\n",
              "    <tr>\n",
              "      <th>87</th>\n",
              "      <td>0.046900</td>\n",
              "      <td>1</td>\n",
              "      <td>9.030137</td>\n",
              "      <td>0.0000</td>\n",
              "      <td>0.265778</td>\n",
              "      <td>0.008629</td>\n",
              "      <td>0.288</td>\n",
              "      <td>0.337</td>\n",
              "      <td>0.237</td>\n",
              "      <td>1.00</td>\n",
              "      <td>...</td>\n",
              "      <td>25.64</td>\n",
              "      <td>2.727</td>\n",
              "      <td>2.664</td>\n",
              "      <td>2.788</td>\n",
              "      <td>20.4</td>\n",
              "      <td>9.4</td>\n",
              "      <td>0.3238</td>\n",
              "      <td>0.3134</td>\n",
              "      <td>4.152</td>\n",
              "      <td>0.005175</td>\n",
              "    </tr>\n",
              "    <tr>\n",
              "      <th>88</th>\n",
              "      <td>0.039773</td>\n",
              "      <td>1</td>\n",
              "      <td>8.865312</td>\n",
              "      <td>0.0000</td>\n",
              "      <td>0.282939</td>\n",
              "      <td>0.005048</td>\n",
              "      <td>0.188</td>\n",
              "      <td>0.236</td>\n",
              "      <td>0.139</td>\n",
              "      <td>1.00</td>\n",
              "      <td>...</td>\n",
              "      <td>10.76</td>\n",
              "      <td>1.888</td>\n",
              "      <td>1.920</td>\n",
              "      <td>1.860</td>\n",
              "      <td>20.0</td>\n",
              "      <td>16.0</td>\n",
              "      <td>0.1845</td>\n",
              "      <td>0.1940</td>\n",
              "      <td>0.452</td>\n",
              "      <td>-0.029551</td>\n",
              "    </tr>\n",
              "    <tr>\n",
              "      <th>89</th>\n",
              "      <td>0.040642</td>\n",
              "      <td>1</td>\n",
              "      <td>8.912339</td>\n",
              "      <td>0.0000</td>\n",
              "      <td>0.150366</td>\n",
              "      <td>0.024377</td>\n",
              "      <td>0.257</td>\n",
              "      <td>0.338</td>\n",
              "      <td>0.215</td>\n",
              "      <td>1.00</td>\n",
              "      <td>...</td>\n",
              "      <td>24.40</td>\n",
              "      <td>3.051</td>\n",
              "      <td>3.235</td>\n",
              "      <td>2.875</td>\n",
              "      <td>18.5</td>\n",
              "      <td>29.1</td>\n",
              "      <td>0.1876</td>\n",
              "      <td>0.2007</td>\n",
              "      <td>0.886</td>\n",
              "      <td>-0.036482</td>\n",
              "    </tr>\n",
              "  </tbody>\n",
              "</table>\n",
              "<p>90 rows × 63 columns</p>\n",
              "</div>\n",
              "    <div class=\"colab-df-buttons\">\n",
              "\n",
              "  <div class=\"colab-df-container\">\n",
              "    <button class=\"colab-df-convert\" onclick=\"convertToInteractive('df-6f91b8f6-a483-4da9-8b69-96f1cda2179e')\"\n",
              "            title=\"Convert this dataframe to an interactive table.\"\n",
              "            style=\"display:none;\">\n",
              "\n",
              "  <svg xmlns=\"http://www.w3.org/2000/svg\" height=\"24px\" viewBox=\"0 -960 960 960\">\n",
              "    <path d=\"M120-120v-720h720v720H120Zm60-500h600v-160H180v160Zm220 220h160v-160H400v160Zm0 220h160v-160H400v160ZM180-400h160v-160H180v160Zm440 0h160v-160H620v160ZM180-180h160v-160H180v160Zm440 0h160v-160H620v160Z\"/>\n",
              "  </svg>\n",
              "    </button>\n",
              "\n",
              "  <style>\n",
              "    .colab-df-container {\n",
              "      display:flex;\n",
              "      gap: 12px;\n",
              "    }\n",
              "\n",
              "    .colab-df-convert {\n",
              "      background-color: #E8F0FE;\n",
              "      border: none;\n",
              "      border-radius: 50%;\n",
              "      cursor: pointer;\n",
              "      display: none;\n",
              "      fill: #1967D2;\n",
              "      height: 32px;\n",
              "      padding: 0 0 0 0;\n",
              "      width: 32px;\n",
              "    }\n",
              "\n",
              "    .colab-df-convert:hover {\n",
              "      background-color: #E2EBFA;\n",
              "      box-shadow: 0px 1px 2px rgba(60, 64, 67, 0.3), 0px 1px 3px 1px rgba(60, 64, 67, 0.15);\n",
              "      fill: #174EA6;\n",
              "    }\n",
              "\n",
              "    .colab-df-buttons div {\n",
              "      margin-bottom: 4px;\n",
              "    }\n",
              "\n",
              "    [theme=dark] .colab-df-convert {\n",
              "      background-color: #3B4455;\n",
              "      fill: #D2E3FC;\n",
              "    }\n",
              "\n",
              "    [theme=dark] .colab-df-convert:hover {\n",
              "      background-color: #434B5C;\n",
              "      box-shadow: 0px 1px 3px 1px rgba(0, 0, 0, 0.15);\n",
              "      filter: drop-shadow(0px 1px 2px rgba(0, 0, 0, 0.3));\n",
              "      fill: #FFFFFF;\n",
              "    }\n",
              "  </style>\n",
              "\n",
              "    <script>\n",
              "      const buttonEl =\n",
              "        document.querySelector('#df-6f91b8f6-a483-4da9-8b69-96f1cda2179e button.colab-df-convert');\n",
              "      buttonEl.style.display =\n",
              "        google.colab.kernel.accessAllowed ? 'block' : 'none';\n",
              "\n",
              "      async function convertToInteractive(key) {\n",
              "        const element = document.querySelector('#df-6f91b8f6-a483-4da9-8b69-96f1cda2179e');\n",
              "        const dataTable =\n",
              "          await google.colab.kernel.invokeFunction('convertToInteractive',\n",
              "                                                    [key], {});\n",
              "        if (!dataTable) return;\n",
              "\n",
              "        const docLinkHtml = 'Like what you see? Visit the ' +\n",
              "          '<a target=\"_blank\" href=https://colab.research.google.com/notebooks/data_table.ipynb>data table notebook</a>'\n",
              "          + ' to learn more about interactive tables.';\n",
              "        element.innerHTML = '';\n",
              "        dataTable['output_type'] = 'display_data';\n",
              "        await google.colab.output.renderOutput(dataTable, element);\n",
              "        const docLink = document.createElement('div');\n",
              "        docLink.innerHTML = docLinkHtml;\n",
              "        element.appendChild(docLink);\n",
              "      }\n",
              "    </script>\n",
              "  </div>\n",
              "\n",
              "\n",
              "    <div id=\"df-374bfa8c-3c94-44a1-a15d-3a1dd237c173\">\n",
              "      <button class=\"colab-df-quickchart\" onclick=\"quickchart('df-374bfa8c-3c94-44a1-a15d-3a1dd237c173')\"\n",
              "                title=\"Suggest charts\"\n",
              "                style=\"display:none;\">\n",
              "\n",
              "<svg xmlns=\"http://www.w3.org/2000/svg\" height=\"24px\"viewBox=\"0 0 24 24\"\n",
              "     width=\"24px\">\n",
              "    <g>\n",
              "        <path d=\"M19 3H5c-1.1 0-2 .9-2 2v14c0 1.1.9 2 2 2h14c1.1 0 2-.9 2-2V5c0-1.1-.9-2-2-2zM9 17H7v-7h2v7zm4 0h-2V7h2v10zm4 0h-2v-4h2v4z\"/>\n",
              "    </g>\n",
              "</svg>\n",
              "      </button>\n",
              "\n",
              "<style>\n",
              "  .colab-df-quickchart {\n",
              "      --bg-color: #E8F0FE;\n",
              "      --fill-color: #1967D2;\n",
              "      --hover-bg-color: #E2EBFA;\n",
              "      --hover-fill-color: #174EA6;\n",
              "      --disabled-fill-color: #AAA;\n",
              "      --disabled-bg-color: #DDD;\n",
              "  }\n",
              "\n",
              "  [theme=dark] .colab-df-quickchart {\n",
              "      --bg-color: #3B4455;\n",
              "      --fill-color: #D2E3FC;\n",
              "      --hover-bg-color: #434B5C;\n",
              "      --hover-fill-color: #FFFFFF;\n",
              "      --disabled-bg-color: #3B4455;\n",
              "      --disabled-fill-color: #666;\n",
              "  }\n",
              "\n",
              "  .colab-df-quickchart {\n",
              "    background-color: var(--bg-color);\n",
              "    border: none;\n",
              "    border-radius: 50%;\n",
              "    cursor: pointer;\n",
              "    display: none;\n",
              "    fill: var(--fill-color);\n",
              "    height: 32px;\n",
              "    padding: 0;\n",
              "    width: 32px;\n",
              "  }\n",
              "\n",
              "  .colab-df-quickchart:hover {\n",
              "    background-color: var(--hover-bg-color);\n",
              "    box-shadow: 0 1px 2px rgba(60, 64, 67, 0.3), 0 1px 3px 1px rgba(60, 64, 67, 0.15);\n",
              "    fill: var(--button-hover-fill-color);\n",
              "  }\n",
              "\n",
              "  .colab-df-quickchart-complete:disabled,\n",
              "  .colab-df-quickchart-complete:disabled:hover {\n",
              "    background-color: var(--disabled-bg-color);\n",
              "    fill: var(--disabled-fill-color);\n",
              "    box-shadow: none;\n",
              "  }\n",
              "\n",
              "  .colab-df-spinner {\n",
              "    border: 2px solid var(--fill-color);\n",
              "    border-color: transparent;\n",
              "    border-bottom-color: var(--fill-color);\n",
              "    animation:\n",
              "      spin 1s steps(1) infinite;\n",
              "  }\n",
              "\n",
              "  @keyframes spin {\n",
              "    0% {\n",
              "      border-color: transparent;\n",
              "      border-bottom-color: var(--fill-color);\n",
              "      border-left-color: var(--fill-color);\n",
              "    }\n",
              "    20% {\n",
              "      border-color: transparent;\n",
              "      border-left-color: var(--fill-color);\n",
              "      border-top-color: var(--fill-color);\n",
              "    }\n",
              "    30% {\n",
              "      border-color: transparent;\n",
              "      border-left-color: var(--fill-color);\n",
              "      border-top-color: var(--fill-color);\n",
              "      border-right-color: var(--fill-color);\n",
              "    }\n",
              "    40% {\n",
              "      border-color: transparent;\n",
              "      border-right-color: var(--fill-color);\n",
              "      border-top-color: var(--fill-color);\n",
              "    }\n",
              "    60% {\n",
              "      border-color: transparent;\n",
              "      border-right-color: var(--fill-color);\n",
              "    }\n",
              "    80% {\n",
              "      border-color: transparent;\n",
              "      border-right-color: var(--fill-color);\n",
              "      border-bottom-color: var(--fill-color);\n",
              "    }\n",
              "    90% {\n",
              "      border-color: transparent;\n",
              "      border-bottom-color: var(--fill-color);\n",
              "    }\n",
              "  }\n",
              "</style>\n",
              "\n",
              "      <script>\n",
              "        async function quickchart(key) {\n",
              "          const quickchartButtonEl =\n",
              "            document.querySelector('#' + key + ' button');\n",
              "          quickchartButtonEl.disabled = true;  // To prevent multiple clicks.\n",
              "          quickchartButtonEl.classList.add('colab-df-spinner');\n",
              "          try {\n",
              "            const charts = await google.colab.kernel.invokeFunction(\n",
              "                'suggestCharts', [key], {});\n",
              "          } catch (error) {\n",
              "            console.error('Error during call to suggestCharts:', error);\n",
              "          }\n",
              "          quickchartButtonEl.classList.remove('colab-df-spinner');\n",
              "          quickchartButtonEl.classList.add('colab-df-quickchart-complete');\n",
              "        }\n",
              "        (() => {\n",
              "          let quickchartButtonEl =\n",
              "            document.querySelector('#df-374bfa8c-3c94-44a1-a15d-3a1dd237c173 button');\n",
              "          quickchartButtonEl.style.display =\n",
              "            google.colab.kernel.accessAllowed ? 'block' : 'none';\n",
              "        })();\n",
              "      </script>\n",
              "    </div>\n",
              "\n",
              "  <div id=\"id_1d18d402-defa-453b-8874-febd174c1205\">\n",
              "    <style>\n",
              "      .colab-df-generate {\n",
              "        background-color: #E8F0FE;\n",
              "        border: none;\n",
              "        border-radius: 50%;\n",
              "        cursor: pointer;\n",
              "        display: none;\n",
              "        fill: #1967D2;\n",
              "        height: 32px;\n",
              "        padding: 0 0 0 0;\n",
              "        width: 32px;\n",
              "      }\n",
              "\n",
              "      .colab-df-generate:hover {\n",
              "        background-color: #E2EBFA;\n",
              "        box-shadow: 0px 1px 2px rgba(60, 64, 67, 0.3), 0px 1px 3px 1px rgba(60, 64, 67, 0.15);\n",
              "        fill: #174EA6;\n",
              "      }\n",
              "\n",
              "      [theme=dark] .colab-df-generate {\n",
              "        background-color: #3B4455;\n",
              "        fill: #D2E3FC;\n",
              "      }\n",
              "\n",
              "      [theme=dark] .colab-df-generate:hover {\n",
              "        background-color: #434B5C;\n",
              "        box-shadow: 0px 1px 3px 1px rgba(0, 0, 0, 0.15);\n",
              "        filter: drop-shadow(0px 1px 2px rgba(0, 0, 0, 0.3));\n",
              "        fill: #FFFFFF;\n",
              "      }\n",
              "    </style>\n",
              "    <button class=\"colab-df-generate\" onclick=\"generateWithVariable('growth')\"\n",
              "            title=\"Generate code using this dataframe.\"\n",
              "            style=\"display:none;\">\n",
              "\n",
              "  <svg xmlns=\"http://www.w3.org/2000/svg\" height=\"24px\"viewBox=\"0 0 24 24\"\n",
              "       width=\"24px\">\n",
              "    <path d=\"M7,19H8.4L18.45,9,17,7.55,7,17.6ZM5,21V16.75L18.45,3.32a2,2,0,0,1,2.83,0l1.4,1.43a1.91,1.91,0,0,1,.58,1.4,1.91,1.91,0,0,1-.58,1.4L9.25,21ZM18.45,9,17,7.55Zm-12,3A5.31,5.31,0,0,0,4.9,8.1,5.31,5.31,0,0,0,1,6.5,5.31,5.31,0,0,0,4.9,4.9,5.31,5.31,0,0,0,6.5,1,5.31,5.31,0,0,0,8.1,4.9,5.31,5.31,0,0,0,12,6.5,5.46,5.46,0,0,0,6.5,12Z\"/>\n",
              "  </svg>\n",
              "    </button>\n",
              "    <script>\n",
              "      (() => {\n",
              "      const buttonEl =\n",
              "        document.querySelector('#id_1d18d402-defa-453b-8874-febd174c1205 button.colab-df-generate');\n",
              "      buttonEl.style.display =\n",
              "        google.colab.kernel.accessAllowed ? 'block' : 'none';\n",
              "\n",
              "      buttonEl.onclick = () => {\n",
              "        google.colab.notebook.generateWithVariable('growth');\n",
              "      }\n",
              "      })();\n",
              "    </script>\n",
              "  </div>\n",
              "\n",
              "    </div>\n",
              "  </div>\n"
            ],
            "application/vnd.google.colaboratory.intrinsic+json": {
              "type": "dataframe",
              "variable_name": "growth"
            }
          },
          "metadata": {},
          "execution_count": 10
        }
      ]
    },
    {
      "cell_type": "markdown",
      "metadata": {
        "id": "daYwWCzAstPK"
      },
      "source": [
        "We determine the dimension of our data set."
      ]
    },
    {
      "cell_type": "markdown",
      "metadata": {
        "id": "kKjo4g2tstPL",
        "papermill": {
          "duration": 0.025013,
          "end_time": "2021-01-20T08:46:45.109042",
          "exception": false,
          "start_time": "2021-01-20T08:46:45.084029",
          "status": "completed"
        },
        "tags": []
      },
      "source": [
        "The sample contains $90$ countries and $63$ controls."
      ]
    },
    {
      "cell_type": "code",
      "execution_count": null,
      "metadata": {
        "id": "nyzB9b7-stPM"
      },
      "outputs": [],
      "source": [
        "growth.shape"
      ]
    },
    {
      "cell_type": "markdown",
      "metadata": {
        "id": "VyZvlMA1stPM",
        "papermill": {
          "duration": 0.024124,
          "end_time": "2021-01-20T08:46:45.157510",
          "exception": false,
          "start_time": "2021-01-20T08:46:45.133386",
          "status": "completed"
        },
        "tags": []
      },
      "source": [
        "Thus $p \\approx 60$, $n=90$ and $p/n$ is not small. We expect the least squares method to provide a poor estimate of $\\beta_1$.  We expect the method based on partialling-out with Lasso to provide a high quality estimate of $\\beta_1$.\n",
        "To check this hypothesis, we analyze the relation between the output variable $Y$ and the other country's characteristics by running a linear regression in the first step."
      ]
    },
    {
      "cell_type": "code",
      "execution_count": 15,
      "metadata": {
        "id": "wjrs2JvvstPM"
      },
      "outputs": [],
      "source": [
        "import statsmodels.api as sm"
      ]
    },
    {
      "cell_type": "code",
      "execution_count": 12,
      "metadata": {
        "id": "5MdYGz9FstPM"
      },
      "outputs": [],
      "source": [
        "y = growth['Outcome']\n",
        "X = growth.drop('Outcome', axis=1)"
      ]
    },
    {
      "cell_type": "code",
      "execution_count": 57,
      "metadata": {
        "id": "onzm4E74stPN"
      },
      "outputs": [],
      "source": [
        "reg_ols = sm.OLS(y, X).fit()\n"
      ]
    },
    {
      "cell_type": "code",
      "execution_count": 58,
      "metadata": {
        "id": "DGZ6SjkostPN"
      },
      "outputs": [],
      "source": [
        "# output: estimated regression coefficient corresponding to the target regressor\n",
        "coef_ols = reg_ols.params['gdpsh465']\n",
        "# output: HC1 std. error\n",
        "std_ols = reg_ols.HC1_se['gdpsh465']\n",
        "# output: 95% confidence interval\n",
        "lower_ci, upper_ci = reg_ols.conf_int(alpha=0.05).loc['gdpsh465'].values\n"
      ]
    },
    {
      "cell_type": "markdown",
      "metadata": {
        "id": "tfCnh-HRstPN"
      },
      "source": [
        "## Summarize OLS results"
      ]
    },
    {
      "cell_type": "code",
      "execution_count": 59,
      "metadata": {
        "colab": {
          "base_uri": "https://localhost:8080/",
          "height": 89
        },
        "id": "a4nXHBrrstPO",
        "outputId": "e23a23e7-c082-448f-ae32-e3a0dd3aa88d"
      },
      "outputs": [
        {
          "output_type": "execute_result",
          "data": {
            "text/plain": [
              "     Estimador  Error estándar  IC min    IC max\n",
              "OLS  -0.009378        0.032421 -0.0706  0.051844"
            ],
            "text/html": [
              "\n",
              "  <div id=\"df-a4813119-b834-4d42-8870-e70d6ed1381e\" class=\"colab-df-container\">\n",
              "    <div>\n",
              "<style scoped>\n",
              "    .dataframe tbody tr th:only-of-type {\n",
              "        vertical-align: middle;\n",
              "    }\n",
              "\n",
              "    .dataframe tbody tr th {\n",
              "        vertical-align: top;\n",
              "    }\n",
              "\n",
              "    .dataframe thead th {\n",
              "        text-align: right;\n",
              "    }\n",
              "</style>\n",
              "<table border=\"1\" class=\"dataframe\">\n",
              "  <thead>\n",
              "    <tr style=\"text-align: right;\">\n",
              "      <th></th>\n",
              "      <th>Estimador</th>\n",
              "      <th>Error estándar</th>\n",
              "      <th>IC min</th>\n",
              "      <th>IC max</th>\n",
              "    </tr>\n",
              "  </thead>\n",
              "  <tbody>\n",
              "    <tr>\n",
              "      <th>OLS</th>\n",
              "      <td>-0.009378</td>\n",
              "      <td>0.032421</td>\n",
              "      <td>-0.0706</td>\n",
              "      <td>0.051844</td>\n",
              "    </tr>\n",
              "  </tbody>\n",
              "</table>\n",
              "</div>\n",
              "    <div class=\"colab-df-buttons\">\n",
              "\n",
              "  <div class=\"colab-df-container\">\n",
              "    <button class=\"colab-df-convert\" onclick=\"convertToInteractive('df-a4813119-b834-4d42-8870-e70d6ed1381e')\"\n",
              "            title=\"Convert this dataframe to an interactive table.\"\n",
              "            style=\"display:none;\">\n",
              "\n",
              "  <svg xmlns=\"http://www.w3.org/2000/svg\" height=\"24px\" viewBox=\"0 -960 960 960\">\n",
              "    <path d=\"M120-120v-720h720v720H120Zm60-500h600v-160H180v160Zm220 220h160v-160H400v160Zm0 220h160v-160H400v160ZM180-400h160v-160H180v160Zm440 0h160v-160H620v160ZM180-180h160v-160H180v160Zm440 0h160v-160H620v160Z\"/>\n",
              "  </svg>\n",
              "    </button>\n",
              "\n",
              "  <style>\n",
              "    .colab-df-container {\n",
              "      display:flex;\n",
              "      gap: 12px;\n",
              "    }\n",
              "\n",
              "    .colab-df-convert {\n",
              "      background-color: #E8F0FE;\n",
              "      border: none;\n",
              "      border-radius: 50%;\n",
              "      cursor: pointer;\n",
              "      display: none;\n",
              "      fill: #1967D2;\n",
              "      height: 32px;\n",
              "      padding: 0 0 0 0;\n",
              "      width: 32px;\n",
              "    }\n",
              "\n",
              "    .colab-df-convert:hover {\n",
              "      background-color: #E2EBFA;\n",
              "      box-shadow: 0px 1px 2px rgba(60, 64, 67, 0.3), 0px 1px 3px 1px rgba(60, 64, 67, 0.15);\n",
              "      fill: #174EA6;\n",
              "    }\n",
              "\n",
              "    .colab-df-buttons div {\n",
              "      margin-bottom: 4px;\n",
              "    }\n",
              "\n",
              "    [theme=dark] .colab-df-convert {\n",
              "      background-color: #3B4455;\n",
              "      fill: #D2E3FC;\n",
              "    }\n",
              "\n",
              "    [theme=dark] .colab-df-convert:hover {\n",
              "      background-color: #434B5C;\n",
              "      box-shadow: 0px 1px 3px 1px rgba(0, 0, 0, 0.15);\n",
              "      filter: drop-shadow(0px 1px 2px rgba(0, 0, 0, 0.3));\n",
              "      fill: #FFFFFF;\n",
              "    }\n",
              "  </style>\n",
              "\n",
              "    <script>\n",
              "      const buttonEl =\n",
              "        document.querySelector('#df-a4813119-b834-4d42-8870-e70d6ed1381e button.colab-df-convert');\n",
              "      buttonEl.style.display =\n",
              "        google.colab.kernel.accessAllowed ? 'block' : 'none';\n",
              "\n",
              "      async function convertToInteractive(key) {\n",
              "        const element = document.querySelector('#df-a4813119-b834-4d42-8870-e70d6ed1381e');\n",
              "        const dataTable =\n",
              "          await google.colab.kernel.invokeFunction('convertToInteractive',\n",
              "                                                    [key], {});\n",
              "        if (!dataTable) return;\n",
              "\n",
              "        const docLinkHtml = 'Like what you see? Visit the ' +\n",
              "          '<a target=\"_blank\" href=https://colab.research.google.com/notebooks/data_table.ipynb>data table notebook</a>'\n",
              "          + ' to learn more about interactive tables.';\n",
              "        element.innerHTML = '';\n",
              "        dataTable['output_type'] = 'display_data';\n",
              "        await google.colab.output.renderOutput(dataTable, element);\n",
              "        const docLink = document.createElement('div');\n",
              "        docLink.innerHTML = docLinkHtml;\n",
              "        element.appendChild(docLink);\n",
              "      }\n",
              "    </script>\n",
              "  </div>\n",
              "\n",
              "\n",
              "  <div id=\"id_caeb58ad-127c-4e21-8879-7803f19af162\">\n",
              "    <style>\n",
              "      .colab-df-generate {\n",
              "        background-color: #E8F0FE;\n",
              "        border: none;\n",
              "        border-radius: 50%;\n",
              "        cursor: pointer;\n",
              "        display: none;\n",
              "        fill: #1967D2;\n",
              "        height: 32px;\n",
              "        padding: 0 0 0 0;\n",
              "        width: 32px;\n",
              "      }\n",
              "\n",
              "      .colab-df-generate:hover {\n",
              "        background-color: #E2EBFA;\n",
              "        box-shadow: 0px 1px 2px rgba(60, 64, 67, 0.3), 0px 1px 3px 1px rgba(60, 64, 67, 0.15);\n",
              "        fill: #174EA6;\n",
              "      }\n",
              "\n",
              "      [theme=dark] .colab-df-generate {\n",
              "        background-color: #3B4455;\n",
              "        fill: #D2E3FC;\n",
              "      }\n",
              "\n",
              "      [theme=dark] .colab-df-generate:hover {\n",
              "        background-color: #434B5C;\n",
              "        box-shadow: 0px 1px 3px 1px rgba(0, 0, 0, 0.15);\n",
              "        filter: drop-shadow(0px 1px 2px rgba(0, 0, 0, 0.3));\n",
              "        fill: #FFFFFF;\n",
              "      }\n",
              "    </style>\n",
              "    <button class=\"colab-df-generate\" onclick=\"generateWithVariable('tabla_1')\"\n",
              "            title=\"Generate code using this dataframe.\"\n",
              "            style=\"display:none;\">\n",
              "\n",
              "  <svg xmlns=\"http://www.w3.org/2000/svg\" height=\"24px\"viewBox=\"0 0 24 24\"\n",
              "       width=\"24px\">\n",
              "    <path d=\"M7,19H8.4L18.45,9,17,7.55,7,17.6ZM5,21V16.75L18.45,3.32a2,2,0,0,1,2.83,0l1.4,1.43a1.91,1.91,0,0,1,.58,1.4,1.91,1.91,0,0,1-.58,1.4L9.25,21ZM18.45,9,17,7.55Zm-12,3A5.31,5.31,0,0,0,4.9,8.1,5.31,5.31,0,0,0,1,6.5,5.31,5.31,0,0,0,4.9,4.9,5.31,5.31,0,0,0,6.5,1,5.31,5.31,0,0,0,8.1,4.9,5.31,5.31,0,0,0,12,6.5,5.46,5.46,0,0,0,6.5,12Z\"/>\n",
              "  </svg>\n",
              "    </button>\n",
              "    <script>\n",
              "      (() => {\n",
              "      const buttonEl =\n",
              "        document.querySelector('#id_caeb58ad-127c-4e21-8879-7803f19af162 button.colab-df-generate');\n",
              "      buttonEl.style.display =\n",
              "        google.colab.kernel.accessAllowed ? 'block' : 'none';\n",
              "\n",
              "      buttonEl.onclick = () => {\n",
              "        google.colab.notebook.generateWithVariable('tabla_1');\n",
              "      }\n",
              "      })();\n",
              "    </script>\n",
              "  </div>\n",
              "\n",
              "    </div>\n",
              "  </div>\n"
            ],
            "application/vnd.google.colaboratory.intrinsic+json": {
              "type": "dataframe",
              "variable_name": "tabla_1",
              "summary": "{\n  \"name\": \"tabla_1\",\n  \"rows\": 1,\n  \"fields\": [\n    {\n      \"column\": \"Estimador\",\n      \"properties\": {\n        \"dtype\": \"number\",\n        \"std\": null,\n        \"min\": -0.009377988783847652,\n        \"max\": -0.009377988783847652,\n        \"num_unique_values\": 1,\n        \"samples\": [\n          -0.009377988783847652\n        ],\n        \"semantic_type\": \"\",\n        \"description\": \"\"\n      }\n    },\n    {\n      \"column\": \"Error est\\u00e1ndar\",\n      \"properties\": {\n        \"dtype\": \"number\",\n        \"std\": null,\n        \"min\": 0.0324211014608166,\n        \"max\": 0.0324211014608166,\n        \"num_unique_values\": 1,\n        \"samples\": [\n          0.0324211014608166\n        ],\n        \"semantic_type\": \"\",\n        \"description\": \"\"\n      }\n    },\n    {\n      \"column\": \"IC min\",\n      \"properties\": {\n        \"dtype\": \"number\",\n        \"std\": null,\n        \"min\": -0.070600220924629,\n        \"max\": -0.070600220924629,\n        \"num_unique_values\": 1,\n        \"samples\": [\n          -0.070600220924629\n        ],\n        \"semantic_type\": \"\",\n        \"description\": \"\"\n      }\n    },\n    {\n      \"column\": \"IC max\",\n      \"properties\": {\n        \"dtype\": \"number\",\n        \"std\": null,\n        \"min\": 0.0518442433569337,\n        \"max\": 0.0518442433569337,\n        \"num_unique_values\": 1,\n        \"samples\": [\n          0.0518442433569337\n        ],\n        \"semantic_type\": \"\",\n        \"description\": \"\"\n      }\n    }\n  ]\n}"
            }
          },
          "metadata": {},
          "execution_count": 59
        }
      ],
      "source": [
        "tabla_1 = pd.DataFrame(columns=[\"Estimador\", \"Error estándar\", \"IC min\", \"IC max\"])\n",
        "tabla_1.loc['OLS'] = [coef_ols, std_ols, lower_ci, upper_ci]\n",
        "tabla_1"
      ]
    },
    {
      "cell_type": "markdown",
      "metadata": {
        "id": "ZxPC6gCFstPO"
      },
      "source": [
        "Least squares provides a rather noisy estimate (high standard error) of the\n",
        "speed of convergence, and does not allow us to answer the question\n",
        "about the convergence hypothesis since the confidence interval includes zero.\n",
        "\n",
        "In contrast, we can use the partialling-out approach based on lasso regression (\"Double Lasso\")."
      ]
    },
    {
      "cell_type": "code",
      "execution_count": 26,
      "metadata": {
        "id": "AVAL-WUxstPO"
      },
      "outputs": [],
      "source": [
        "y = growth['Outcome'].values\n",
        "W = growth.drop(['Outcome',  'gdpsh465'], axis=1)\n",
        "D = growth['gdpsh465'].values"
      ]
    },
    {
      "cell_type": "code",
      "source": [
        "res_y = sm.OLS(y, W).fit().resid\n",
        "res_D = sm.OLS(D,W).fit().resid\n",
        "\n",
        "r_y = pd.DataFrame(res_y, columns=['r_y'])\n",
        "r_D = pd.DataFrame(res_D, columns=['r_D'])"
      ],
      "metadata": {
        "id": "AgIpfvYMulCY"
      },
      "execution_count": 40,
      "outputs": []
    },
    {
      "cell_type": "code",
      "source": [
        "model2_ols = sm.OLS(r_y, sm.add_constant(r_D)).fit()\n",
        "model2_ols.params['r_D']"
      ],
      "metadata": {
        "colab": {
          "base_uri": "https://localhost:8080/"
        },
        "id": "tD2tKPSvvM87",
        "outputId": "8af8151b-bbea-4ba2-df3d-01f522def02e"
      },
      "execution_count": 62,
      "outputs": [
        {
          "output_type": "execute_result",
          "data": {
            "text/plain": [
              "np.float64(-0.009377988782581599)"
            ]
          },
          "metadata": {},
          "execution_count": 62
        }
      ]
    },
    {
      "cell_type": "code",
      "source": [
        "# output: estimated regression coefficient corresponding to the target regressor\n",
        "coef_part_o = model2_ols.params['r_D']\n",
        "std_part_o = model2_ols.HC1_se['r_D']\n",
        "lower_ci, upper_ci = model2_ols.conf_int(alpha=0.05).loc['r_D'].values\n",
        "\n",
        "tabla_2 = pd.DataFrame(columns=[\"Estimador\", \"Error estándar\", \"IC min\", \"IC max\"])\n",
        "tabla_2.loc['OLS'] = [coef_part_o , std_part_o, lower_ci, upper_ci]\n",
        "tabla_2"
      ],
      "metadata": {
        "id": "Jr88B_TULg9h",
        "outputId": "d2309f62-2454-4be9-f673-e3ae07234d6c",
        "colab": {
          "base_uri": "https://localhost:8080/",
          "height": 89
        }
      },
      "execution_count": 61,
      "outputs": [
        {
          "output_type": "execute_result",
          "data": {
            "text/plain": [
              "     Estimador  Error estándar    IC min    IC max\n",
              "OLS  -0.009378        0.018288 -0.042882  0.024126"
            ],
            "text/html": [
              "\n",
              "  <div id=\"df-197cb38c-849e-4f83-9e24-ef5a5e395db3\" class=\"colab-df-container\">\n",
              "    <div>\n",
              "<style scoped>\n",
              "    .dataframe tbody tr th:only-of-type {\n",
              "        vertical-align: middle;\n",
              "    }\n",
              "\n",
              "    .dataframe tbody tr th {\n",
              "        vertical-align: top;\n",
              "    }\n",
              "\n",
              "    .dataframe thead th {\n",
              "        text-align: right;\n",
              "    }\n",
              "</style>\n",
              "<table border=\"1\" class=\"dataframe\">\n",
              "  <thead>\n",
              "    <tr style=\"text-align: right;\">\n",
              "      <th></th>\n",
              "      <th>Estimador</th>\n",
              "      <th>Error estándar</th>\n",
              "      <th>IC min</th>\n",
              "      <th>IC max</th>\n",
              "    </tr>\n",
              "  </thead>\n",
              "  <tbody>\n",
              "    <tr>\n",
              "      <th>OLS</th>\n",
              "      <td>-0.009378</td>\n",
              "      <td>0.018288</td>\n",
              "      <td>-0.042882</td>\n",
              "      <td>0.024126</td>\n",
              "    </tr>\n",
              "  </tbody>\n",
              "</table>\n",
              "</div>\n",
              "    <div class=\"colab-df-buttons\">\n",
              "\n",
              "  <div class=\"colab-df-container\">\n",
              "    <button class=\"colab-df-convert\" onclick=\"convertToInteractive('df-197cb38c-849e-4f83-9e24-ef5a5e395db3')\"\n",
              "            title=\"Convert this dataframe to an interactive table.\"\n",
              "            style=\"display:none;\">\n",
              "\n",
              "  <svg xmlns=\"http://www.w3.org/2000/svg\" height=\"24px\" viewBox=\"0 -960 960 960\">\n",
              "    <path d=\"M120-120v-720h720v720H120Zm60-500h600v-160H180v160Zm220 220h160v-160H400v160Zm0 220h160v-160H400v160ZM180-400h160v-160H180v160Zm440 0h160v-160H620v160ZM180-180h160v-160H180v160Zm440 0h160v-160H620v160Z\"/>\n",
              "  </svg>\n",
              "    </button>\n",
              "\n",
              "  <style>\n",
              "    .colab-df-container {\n",
              "      display:flex;\n",
              "      gap: 12px;\n",
              "    }\n",
              "\n",
              "    .colab-df-convert {\n",
              "      background-color: #E8F0FE;\n",
              "      border: none;\n",
              "      border-radius: 50%;\n",
              "      cursor: pointer;\n",
              "      display: none;\n",
              "      fill: #1967D2;\n",
              "      height: 32px;\n",
              "      padding: 0 0 0 0;\n",
              "      width: 32px;\n",
              "    }\n",
              "\n",
              "    .colab-df-convert:hover {\n",
              "      background-color: #E2EBFA;\n",
              "      box-shadow: 0px 1px 2px rgba(60, 64, 67, 0.3), 0px 1px 3px 1px rgba(60, 64, 67, 0.15);\n",
              "      fill: #174EA6;\n",
              "    }\n",
              "\n",
              "    .colab-df-buttons div {\n",
              "      margin-bottom: 4px;\n",
              "    }\n",
              "\n",
              "    [theme=dark] .colab-df-convert {\n",
              "      background-color: #3B4455;\n",
              "      fill: #D2E3FC;\n",
              "    }\n",
              "\n",
              "    [theme=dark] .colab-df-convert:hover {\n",
              "      background-color: #434B5C;\n",
              "      box-shadow: 0px 1px 3px 1px rgba(0, 0, 0, 0.15);\n",
              "      filter: drop-shadow(0px 1px 2px rgba(0, 0, 0, 0.3));\n",
              "      fill: #FFFFFF;\n",
              "    }\n",
              "  </style>\n",
              "\n",
              "    <script>\n",
              "      const buttonEl =\n",
              "        document.querySelector('#df-197cb38c-849e-4f83-9e24-ef5a5e395db3 button.colab-df-convert');\n",
              "      buttonEl.style.display =\n",
              "        google.colab.kernel.accessAllowed ? 'block' : 'none';\n",
              "\n",
              "      async function convertToInteractive(key) {\n",
              "        const element = document.querySelector('#df-197cb38c-849e-4f83-9e24-ef5a5e395db3');\n",
              "        const dataTable =\n",
              "          await google.colab.kernel.invokeFunction('convertToInteractive',\n",
              "                                                    [key], {});\n",
              "        if (!dataTable) return;\n",
              "\n",
              "        const docLinkHtml = 'Like what you see? Visit the ' +\n",
              "          '<a target=\"_blank\" href=https://colab.research.google.com/notebooks/data_table.ipynb>data table notebook</a>'\n",
              "          + ' to learn more about interactive tables.';\n",
              "        element.innerHTML = '';\n",
              "        dataTable['output_type'] = 'display_data';\n",
              "        await google.colab.output.renderOutput(dataTable, element);\n",
              "        const docLink = document.createElement('div');\n",
              "        docLink.innerHTML = docLinkHtml;\n",
              "        element.appendChild(docLink);\n",
              "      }\n",
              "    </script>\n",
              "  </div>\n",
              "\n",
              "\n",
              "  <div id=\"id_c48b2177-bfca-4628-8ead-81c1e5387bc7\">\n",
              "    <style>\n",
              "      .colab-df-generate {\n",
              "        background-color: #E8F0FE;\n",
              "        border: none;\n",
              "        border-radius: 50%;\n",
              "        cursor: pointer;\n",
              "        display: none;\n",
              "        fill: #1967D2;\n",
              "        height: 32px;\n",
              "        padding: 0 0 0 0;\n",
              "        width: 32px;\n",
              "      }\n",
              "\n",
              "      .colab-df-generate:hover {\n",
              "        background-color: #E2EBFA;\n",
              "        box-shadow: 0px 1px 2px rgba(60, 64, 67, 0.3), 0px 1px 3px 1px rgba(60, 64, 67, 0.15);\n",
              "        fill: #174EA6;\n",
              "      }\n",
              "\n",
              "      [theme=dark] .colab-df-generate {\n",
              "        background-color: #3B4455;\n",
              "        fill: #D2E3FC;\n",
              "      }\n",
              "\n",
              "      [theme=dark] .colab-df-generate:hover {\n",
              "        background-color: #434B5C;\n",
              "        box-shadow: 0px 1px 3px 1px rgba(0, 0, 0, 0.15);\n",
              "        filter: drop-shadow(0px 1px 2px rgba(0, 0, 0, 0.3));\n",
              "        fill: #FFFFFF;\n",
              "      }\n",
              "    </style>\n",
              "    <button class=\"colab-df-generate\" onclick=\"generateWithVariable('tabla_2')\"\n",
              "            title=\"Generate code using this dataframe.\"\n",
              "            style=\"display:none;\">\n",
              "\n",
              "  <svg xmlns=\"http://www.w3.org/2000/svg\" height=\"24px\"viewBox=\"0 0 24 24\"\n",
              "       width=\"24px\">\n",
              "    <path d=\"M7,19H8.4L18.45,9,17,7.55,7,17.6ZM5,21V16.75L18.45,3.32a2,2,0,0,1,2.83,0l1.4,1.43a1.91,1.91,0,0,1,.58,1.4,1.91,1.91,0,0,1-.58,1.4L9.25,21ZM18.45,9,17,7.55Zm-12,3A5.31,5.31,0,0,0,4.9,8.1,5.31,5.31,0,0,0,1,6.5,5.31,5.31,0,0,0,4.9,4.9,5.31,5.31,0,0,0,6.5,1,5.31,5.31,0,0,0,8.1,4.9,5.31,5.31,0,0,0,12,6.5,5.46,5.46,0,0,0,6.5,12Z\"/>\n",
              "  </svg>\n",
              "    </button>\n",
              "    <script>\n",
              "      (() => {\n",
              "      const buttonEl =\n",
              "        document.querySelector('#id_c48b2177-bfca-4628-8ead-81c1e5387bc7 button.colab-df-generate');\n",
              "      buttonEl.style.display =\n",
              "        google.colab.kernel.accessAllowed ? 'block' : 'none';\n",
              "\n",
              "      buttonEl.onclick = () => {\n",
              "        google.colab.notebook.generateWithVariable('tabla_2');\n",
              "      }\n",
              "      })();\n",
              "    </script>\n",
              "  </div>\n",
              "\n",
              "    </div>\n",
              "  </div>\n"
            ],
            "application/vnd.google.colaboratory.intrinsic+json": {
              "type": "dataframe",
              "variable_name": "tabla_2",
              "summary": "{\n  \"name\": \"tabla_2\",\n  \"rows\": 1,\n  \"fields\": [\n    {\n      \"column\": \"Estimador\",\n      \"properties\": {\n        \"dtype\": \"number\",\n        \"std\": null,\n        \"min\": -0.009377988782581599,\n        \"max\": -0.009377988782581599,\n        \"num_unique_values\": 1,\n        \"samples\": [\n          -0.009377988782581599\n        ],\n        \"semantic_type\": \"\",\n        \"description\": \"\"\n      }\n    },\n    {\n      \"column\": \"Error est\\u00e1ndar\",\n      \"properties\": {\n        \"dtype\": \"number\",\n        \"std\": null,\n        \"min\": 0.018287967652947462,\n        \"max\": 0.018287967652947462,\n        \"num_unique_values\": 1,\n        \"samples\": [\n          0.018287967652947462\n        ],\n        \"semantic_type\": \"\",\n        \"description\": \"\"\n      }\n    },\n    {\n      \"column\": \"IC min\",\n      \"properties\": {\n        \"dtype\": \"number\",\n        \"std\": null,\n        \"min\": -0.04288161197942816,\n        \"max\": -0.04288161197942816,\n        \"num_unique_values\": 1,\n        \"samples\": [\n          -0.04288161197942816\n        ],\n        \"semantic_type\": \"\",\n        \"description\": \"\"\n      }\n    },\n    {\n      \"column\": \"IC max\",\n      \"properties\": {\n        \"dtype\": \"number\",\n        \"std\": null,\n        \"min\": 0.024125634414264956,\n        \"max\": 0.024125634414264956,\n        \"num_unique_values\": 1,\n        \"samples\": [\n          0.024125634414264956\n        ],\n        \"semantic_type\": \"\",\n        \"description\": \"\"\n      }\n    }\n  ]\n}"
            }
          },
          "metadata": {},
          "execution_count": 61
        }
      ]
    },
    {
      "cell_type": "code",
      "source": [
        "print(model2_ols.summary())\n"
      ],
      "metadata": {
        "id": "RmstdRywOlK0",
        "outputId": "1d24b29b-b651-4496-8b0b-e41f29b04144",
        "colab": {
          "base_uri": "https://localhost:8080/"
        }
      },
      "execution_count": 63,
      "outputs": [
        {
          "output_type": "stream",
          "name": "stdout",
          "text": [
            "                            OLS Regression Results                            \n",
            "==============================================================================\n",
            "Dep. Variable:                    r_y   R-squared:                       0.004\n",
            "Model:                            OLS   Adj. R-squared:                 -0.008\n",
            "Method:                 Least Squares   F-statistic:                    0.3094\n",
            "Date:                Thu, 14 Aug 2025   Prob (F-statistic):              0.579\n",
            "Time:                        06:41:56   Log-Likelihood:                 238.24\n",
            "No. Observations:                  90   AIC:                            -472.5\n",
            "Df Residuals:                      88   BIC:                            -467.5\n",
            "Df Model:                           1                                         \n",
            "Covariance Type:            nonrobust                                         \n",
            "==============================================================================\n",
            "                 coef    std err          t      P>|t|      [0.025      0.975]\n",
            "------------------------------------------------------------------------------\n",
            "const      -4.646e-12      0.002  -2.54e-09      1.000      -0.004       0.004\n",
            "r_D           -0.0094      0.017     -0.556      0.579      -0.043       0.024\n",
            "==============================================================================\n",
            "Omnibus:                        0.439   Durbin-Watson:                   1.982\n",
            "Prob(Omnibus):                  0.803   Jarque-Bera (JB):                0.417\n",
            "Skew:                           0.158   Prob(JB):                        0.812\n",
            "Kurtosis:                       2.896   Cond. No.                         9.22\n",
            "==============================================================================\n",
            "\n",
            "Notes:\n",
            "[1] Standard Errors assume that the covariance matrix of the errors is correctly specified.\n"
          ]
        }
      ]
    },
    {
      "cell_type": "markdown",
      "metadata": {
        "id": "1XFIq9k0stPP"
      },
      "source": [
        "## Method 1 - Lasso with Theoretical Setting of Penalty using HDMPY"
      ]
    },
    {
      "cell_type": "markdown",
      "metadata": {
        "id": "bhkKQO8kstPP"
      },
      "source": [
        "While cross validation is commonly employed for choosing penalty parameters in Lasso, it can be very noisy and tends to choose relatively small penalty leading to some overfitting. For this reason, one should not use cross validation to choose tuning parameters unless sample splitting is employed. We illustrate the use of sample combined with cross validation in later chapters in the book. Since we are using the full sample here, it is much better (and theoretically valid) to use penalties that provably control overfitting, which is what we do here.\n",
        "\n",
        "We report the results using cross validation at the end of this notebook for comparison. There, we observe overfitting for the prediction of the outcome."
      ]
    },
    {
      "cell_type": "code",
      "execution_count": 25,
      "metadata": {
        "id": "LUhRELnwstPP",
        "colab": {
          "base_uri": "https://localhost:8080/",
          "height": 211
        },
        "outputId": "7ded3de5-c052-4703-9def-0ca5752e1745"
      },
      "outputs": [
        {
          "output_type": "error",
          "ename": "AttributeError",
          "evalue": "module 'hdmpy' has no attribute 'rlasso'",
          "traceback": [
            "\u001b[0;31m---------------------------------------------------------------------------\u001b[0m",
            "\u001b[0;31mAttributeError\u001b[0m                            Traceback (most recent call last)",
            "\u001b[0;32m/tmp/ipython-input-1304235184.py\u001b[0m in \u001b[0;36m<cell line: 0>\u001b[0;34m()\u001b[0m\n\u001b[0;32m----> 1\u001b[0;31m \u001b[0mres_y\u001b[0m \u001b[0;34m=\u001b[0m \u001b[0mhdmpy\u001b[0m\u001b[0;34m.\u001b[0m\u001b[0mrlasso\u001b[0m\u001b[0;34m(\u001b[0m\u001b[0mW\u001b[0m\u001b[0;34m,\u001b[0m \u001b[0my\u001b[0m\u001b[0;34m,\u001b[0m \u001b[0mpost\u001b[0m\u001b[0;34m=\u001b[0m\u001b[0;32mFalse\u001b[0m\u001b[0;34m)\u001b[0m\u001b[0;34m.\u001b[0m\u001b[0mest\u001b[0m\u001b[0;34m[\u001b[0m\u001b[0;34m'residuals'\u001b[0m\u001b[0;34m]\u001b[0m\u001b[0;34m\u001b[0m\u001b[0;34m\u001b[0m\u001b[0m\n\u001b[0m\u001b[1;32m      2\u001b[0m \u001b[0mres_D\u001b[0m \u001b[0;34m=\u001b[0m \u001b[0mhdmpy\u001b[0m\u001b[0;34m.\u001b[0m\u001b[0mrlasso\u001b[0m\u001b[0;34m(\u001b[0m\u001b[0mW\u001b[0m\u001b[0;34m,\u001b[0m \u001b[0mD\u001b[0m\u001b[0;34m,\u001b[0m \u001b[0mpost\u001b[0m\u001b[0;34m=\u001b[0m\u001b[0;32mFalse\u001b[0m\u001b[0;34m)\u001b[0m\u001b[0;34m.\u001b[0m\u001b[0mest\u001b[0m\u001b[0;34m[\u001b[0m\u001b[0;34m'residuals'\u001b[0m\u001b[0;34m]\u001b[0m\u001b[0;34m\u001b[0m\u001b[0;34m\u001b[0m\u001b[0m\n\u001b[1;32m      3\u001b[0m \u001b[0;34m\u001b[0m\u001b[0m\n\u001b[1;32m      4\u001b[0m \u001b[0mr_y\u001b[0m \u001b[0;34m=\u001b[0m \u001b[0mpd\u001b[0m\u001b[0;34m.\u001b[0m\u001b[0mDataFrame\u001b[0m\u001b[0;34m(\u001b[0m\u001b[0mres_y\u001b[0m\u001b[0;34m,\u001b[0m \u001b[0mcolumns\u001b[0m\u001b[0;34m=\u001b[0m\u001b[0;34m[\u001b[0m\u001b[0;34m'r_y'\u001b[0m\u001b[0;34m]\u001b[0m\u001b[0;34m)\u001b[0m\u001b[0;34m\u001b[0m\u001b[0;34m\u001b[0m\u001b[0m\n\u001b[1;32m      5\u001b[0m \u001b[0mr_D\u001b[0m \u001b[0;34m=\u001b[0m \u001b[0mpd\u001b[0m\u001b[0;34m.\u001b[0m\u001b[0mDataFrame\u001b[0m\u001b[0;34m(\u001b[0m\u001b[0mres_D\u001b[0m\u001b[0;34m,\u001b[0m \u001b[0mcolumns\u001b[0m\u001b[0;34m=\u001b[0m\u001b[0;34m[\u001b[0m\u001b[0;34m'r_D'\u001b[0m\u001b[0;34m]\u001b[0m\u001b[0;34m)\u001b[0m\u001b[0;34m\u001b[0m\u001b[0;34m\u001b[0m\u001b[0m\n",
            "\u001b[0;31mAttributeError\u001b[0m: module 'hdmpy' has no attribute 'rlasso'"
          ]
        }
      ],
      "source": [
        "res_y = hdmpy.rlasso(W, y, post=False).est['residuals']\n",
        "res_D = hdmpy.rlasso(W, D, post=False).est['residuals']\n",
        "\n",
        "r_y = pd.DataFrame(res_y, columns=['r_y'])\n",
        "r_D = pd.DataFrame(res_D, columns=['r_D'])"
      ]
    },
    {
      "cell_type": "code",
      "execution_count": null,
      "metadata": {
        "id": "bZQPwxAfstPP"
      },
      "outputs": [],
      "source": [
        "# OLS regression\n",
        "reg_ols = sm.OLS(r_y, r_D).fit(cov_type='HC1')"
      ]
    },
    {
      "cell_type": "code",
      "execution_count": null,
      "metadata": {
        "id": "DSNHIS_dstPP"
      },
      "outputs": [],
      "source": [
        "reg_ols.params['r_D']"
      ]
    },
    {
      "cell_type": "code",
      "execution_count": null,
      "metadata": {
        "id": "mIiFjqtestPP"
      },
      "outputs": [],
      "source": [
        "est = reg_ols.params['r_D']\n",
        "stderr = reg_ols.HC1_se['r_D']\n",
        "lower_ci, upper_ci = reg_ols.conf_int(alpha=0.05).loc['r_D'].values\n",
        "table.loc['Double Lasso'] = [est, stderr, lower_ci, upper_ci]\n",
        "table"
      ]
    },
    {
      "cell_type": "markdown",
      "metadata": {
        "id": "j2fVTLyqstPP"
      },
      "source": [
        "The least square method provides a rather noisy estimate of the speed of convergence. We can not answer the question if poor countries grow faster than rich countries. The least square method does not work when the ratio $p/n$ is large.\n",
        "\n",
        "In sharp contrast, partialling-out via Lasso provides a more precise estimate. The Lasso based point estimate is $-5\\%$ and the $95\\%$ confidence interval for the (annual) rate of convergence $[-7.8\\%,-2.2\\%]$ only includes negative numbers. This empirical evidence does support the convergence hypothesis."
      ]
    },
    {
      "cell_type": "markdown",
      "metadata": {
        "id": "_jfpXjJistPQ"
      },
      "source": [
        "## Method 2: Using Cross-Validated Lasso"
      ]
    },
    {
      "cell_type": "markdown",
      "metadata": {
        "id": "g0KAUNMYl9Bv"
      },
      "source": [
        "This section is for illustration purposes only. Given that we are using the full sample, cross validation *should not* be used for choosing tuning parameters here. Cross validation tends to (mildly) overfit, and this overfitting can lead to substantial problems when inference about parameters is the goal."
      ]
    },
    {
      "cell_type": "code",
      "execution_count": null,
      "metadata": {
        "id": "-unoL91DstPQ"
      },
      "outputs": [],
      "source": [
        "from sklearn import linear_model\n",
        "from sklearn.preprocessing import StandardScaler\n",
        "from sklearn.pipeline import make_pipeline\n",
        "from sklearn.model_selection import KFold\n",
        "\n",
        "# Choose penalty based on KFold cross validation\n",
        "# Given small sample size, we use an aggressive number of 20 folds\n",
        "cv = KFold(n_splits=20, shuffle=True, random_state=123)\n",
        "model_y = make_pipeline(StandardScaler(),\n",
        "                        linear_model.LassoCV(n_alphas=10, cv=cv, max_iter=10000))\n",
        "\n",
        "res_y = y - model_y.fit(W, y).predict(W)\n",
        "r_y = pd.DataFrame(res_y, columns=['r_y'])\n",
        "\n",
        "model_d = make_pipeline(StandardScaler(),\n",
        "                        linear_model.LassoCV(n_alphas=10, cv=cv, max_iter=10000))\n",
        "res_D = D - model_d.fit(W, D).predict(W)\n",
        "r_D = pd.DataFrame(res_D, columns=['r_D'])"
      ]
    },
    {
      "cell_type": "code",
      "execution_count": null,
      "metadata": {
        "id": "jp_tzQASstPQ"
      },
      "outputs": [],
      "source": [
        "# OLS regression\n",
        "reg_ols = sm.OLS(r_y, r_D).fit(cov_type='HC1')"
      ]
    },
    {
      "cell_type": "code",
      "execution_count": null,
      "metadata": {
        "id": "QRFkAf_PstPR"
      },
      "outputs": [],
      "source": [
        "est = reg_ols.params['r_D']\n",
        "stderr = reg_ols.HC1_se['r_D']\n",
        "lower_ci, upper_ci = reg_ols.conf_int(alpha=0.05).loc['r_D'].values\n",
        "table.loc['Double Lasso-CV'] = [est, stderr, lower_ci, upper_ci]\n",
        "table"
      ]
    },
    {
      "cell_type": "markdown",
      "metadata": {
        "id": "YC-zlwPRstPR"
      },
      "source": [
        "We find that the outcome model chooses too small of a penalty based on cross-validation, leading to overfitting of the outcome and tiny outcome residuals. This leads to artificially small standard errors and a zero treatment effect. Theoretically driven penalty should be preferred for such small sample sizes."
      ]
    },
    {
      "cell_type": "code",
      "execution_count": null,
      "metadata": {
        "id": "tthzbEkUstPR"
      },
      "outputs": [],
      "source": [
        "plt.plot(model_y[-1].alphas_, 1 - model_y[-1].mse_path_.mean(axis=1) / np.var(y))\n",
        "plt.title('Outcome Lasso-CV Model: Out-of-sample R-squared as function of penalty level')\n",
        "plt.show()\n",
        "plt.title('Treatment Lasso-CV Model: Out-of-sample R-squared as function of penalty level')\n",
        "plt.plot(model_d[-1].alphas_, 1 - model_d[-1].mse_path_.mean(axis=1) / np.var(D))\n",
        "plt.show()"
      ]
    },
    {
      "cell_type": "markdown",
      "source": [
        "> *\"El coeficiente de una variable en una regresión múltiple es exactamente el mismo que obtienes si primero 'parcias out' todas las demás variables...\"*\n",
        "\n",
        "---\n",
        "\n",
        "### **Teorema de Frisch–Waugh–Lovell (versión OLS)**\n",
        "\n",
        "\n",
        "$$\n",
        "\\hat{\\gamma}_{YW} = \\arg \\min_{\\gamma \\in \\mathbb{R}^p} \\sum_{i} (Y_i - \\gamma' W_i)^2\n",
        "$$\n",
        "\n",
        "$$\n",
        "\\hat{\\gamma}_{DW} = \\arg \\min_{\\gamma \\in \\mathbb{R}^p} \\sum_{i} (D_i - \\gamma' W_i)^2\n",
        "$$\n",
        "\n",
        "Donde:\n",
        "- $Y_i$: es la variable objetivo\n",
        "- $D_i$: regresor de interés\n",
        "- $W_i$: Otros regresores\n",
        "\n",
        "\n",
        "\n",
        "\n",
        "\n",
        "$$\n",
        "\\tilde{Y}_i = Y_i - \\hat{\\gamma}_{YW}' W_i\n",
        "$$\n",
        "\n",
        "$$\n",
        "\\tilde{D}_i = D_i - \\hat{\\gamma}_{DW}' W_i\n",
        "$$\n",
        "\n",
        "\n",
        "3. Corremos una regresión por OLS de $\\tilde{Y}_i$ sobre $\\tilde{D}_i$\n",
        "\n",
        "El coeficiente estimado sobre $\\tilde{D}_i$ es **exactamente igual** al estimado para $D_i$ en la regresión múltiple original de $Y_i$ sobre $D_i$ y $W_i$.\n",
        "\n",
        "$\\tilde{Y}_i$ sobre $\\tilde{D}_i$:\n",
        "\n",
        "$$\n",
        "\\tilde{Y}_i = \\alpha + \\theta \\tilde{D}_i + u_i\n",
        "$$\n",
        "\n",
        "El estimador $\\hat{\\theta}$ deber ser **igual** al coeficiente $\\hat{\\beta}_D$ en la regresión múltiple original:\n",
        "\n",
        "$$\n",
        "Y_i = \\alpha + \\beta_D D_i + \\beta_W' W_i + \\varepsilon_i\n",
        "$$\n"
      ],
      "metadata": {
        "id": "4W1mPa0CIg_0"
      }
    }
  ],
  "metadata": {
    "colab": {
      "provenance": []
    },
    "hide_input": false,
    "kernelspec": {
      "display_name": "Python 3 (ipykernel)",
      "language": "python",
      "name": "python3"
    },
    "language_info": {
      "codemirror_mode": {
        "name": "ipython",
        "version": 3
      },
      "file_extension": ".py",
      "mimetype": "text/x-python",
      "name": "python",
      "nbconvert_exporter": "python",
      "pygments_lexer": "ipython3",
      "version": "3.11.5"
    }
  },
  "nbformat": 4,
  "nbformat_minor": 0
}