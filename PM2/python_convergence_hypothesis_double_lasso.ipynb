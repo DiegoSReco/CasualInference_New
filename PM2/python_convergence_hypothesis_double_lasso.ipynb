{
  "cells": [
    {
      "cell_type": "markdown",
      "metadata": {
        "id": "yUStykVPstO-"
      },
      "source": [
        "Authors: Andreas Haupt, Jannis Kück, Alexander Quispe and Anzony Quispe, Vasilis Syrgkanis"
      ]
    },
    {
      "cell_type": "markdown",
      "metadata": {
        "id": "UYchb-zYstPD"
      },
      "source": [
        "# Testing the Convergence Hypothesis"
      ]
    },
    {
      "cell_type": "code",
      "execution_count": 1,
      "metadata": {
        "colab": {
          "base_uri": "https://localhost:8080/"
        },
        "id": "wUf3nUm6stPE",
        "outputId": "a8ba7b76-60d2-41f2-db08-d38fe40825e7"
      },
      "outputs": [
        {
          "output_type": "stream",
          "name": "stdout",
          "text": [
            "Requirement already satisfied: multiprocess in /usr/local/lib/python3.11/dist-packages (0.70.16)\n",
            "Requirement already satisfied: dill>=0.3.8 in /usr/local/lib/python3.11/dist-packages (from multiprocess) (0.3.8)\n",
            "Collecting pyreadr\n",
            "  Downloading pyreadr-0.5.3-cp311-cp311-manylinux_2_17_x86_64.manylinux2014_x86_64.whl.metadata (1.4 kB)\n",
            "Requirement already satisfied: pandas>=1.2.0 in /usr/local/lib/python3.11/dist-packages (from pyreadr) (2.2.2)\n",
            "Requirement already satisfied: numpy>=1.23.2 in /usr/local/lib/python3.11/dist-packages (from pandas>=1.2.0->pyreadr) (2.0.2)\n",
            "Requirement already satisfied: python-dateutil>=2.8.2 in /usr/local/lib/python3.11/dist-packages (from pandas>=1.2.0->pyreadr) (2.9.0.post0)\n",
            "Requirement already satisfied: pytz>=2020.1 in /usr/local/lib/python3.11/dist-packages (from pandas>=1.2.0->pyreadr) (2025.2)\n",
            "Requirement already satisfied: tzdata>=2022.7 in /usr/local/lib/python3.11/dist-packages (from pandas>=1.2.0->pyreadr) (2025.2)\n",
            "Requirement already satisfied: six>=1.5 in /usr/local/lib/python3.11/dist-packages (from python-dateutil>=2.8.2->pandas>=1.2.0->pyreadr) (1.17.0)\n",
            "Downloading pyreadr-0.5.3-cp311-cp311-manylinux_2_17_x86_64.manylinux2014_x86_64.whl (411 kB)\n",
            "\u001b[2K   \u001b[90m━━━━━━━━━━━━━━━━━━━━━━━━━━━━━━━━━━━━━━━━\u001b[0m \u001b[32m411.7/411.7 kB\u001b[0m \u001b[31m5.3 MB/s\u001b[0m eta \u001b[36m0:00:00\u001b[0m\n",
            "\u001b[?25hInstalling collected packages: pyreadr\n",
            "Successfully installed pyreadr-0.5.3\n",
            "Cloning into 'hdmpy'...\n",
            "remote: Enumerating objects: 89, done.\u001b[K\n",
            "remote: Counting objects: 100% (89/89), done.\u001b[K\n",
            "remote: Compressing objects: 100% (66/66), done.\u001b[K\n",
            "remote: Total 89 (delta 47), reused 63 (delta 23), pack-reused 0 (from 0)\u001b[K\n",
            "Receiving objects: 100% (89/89), 28.88 KiB | 2.22 MiB/s, done.\n",
            "Resolving deltas: 100% (47/47), done.\n"
          ]
        }
      ],
      "source": [
        "!pip install multiprocess\n",
        "!pip install pyreadr\n",
        "!git clone https://github.com/maxhuppertz/hdmpy.git"
      ]
    },
    {
      "cell_type": "code",
      "execution_count": 2,
      "metadata": {
        "colab": {
          "base_uri": "https://localhost:8080/"
        },
        "id": "_T9cPLQs3iJt",
        "outputId": "d77fd711-5581-4627-8b80-397411d4d5e2"
      },
      "outputs": [
        {
          "output_type": "stream",
          "name": "stdout",
          "text": [
            "Collecting wget\n",
            "  Downloading wget-3.2.zip (10 kB)\n",
            "  Preparing metadata (setup.py) ... \u001b[?25l\u001b[?25hdone\n",
            "Building wheels for collected packages: wget\n",
            "  Building wheel for wget (setup.py) ... \u001b[?25l\u001b[?25hdone\n",
            "  Created wheel for wget: filename=wget-3.2-py3-none-any.whl size=9655 sha256=57633a0a84e854f12b0fb11a4ab14f528216558360f55ff92cb90f0ebefc97e9\n",
            "  Stored in directory: /root/.cache/pip/wheels/40/b3/0f/a40dbd1c6861731779f62cc4babcb234387e11d697df70ee97\n",
            "Successfully built wget\n",
            "Installing collected packages: wget\n",
            "Successfully installed wget-3.2\n"
          ]
        }
      ],
      "source": [
        "!pip install wget # for data loading"
      ]
    },
    {
      "cell_type": "code",
      "execution_count": 3,
      "metadata": {
        "id": "bYy0blnFstPG"
      },
      "outputs": [],
      "source": [
        "import sys\n",
        "import wget\n",
        "import hdmpy\n",
        "\n",
        "import pandas as pd\n",
        "import numpy as np\n",
        "import matplotlib.pyplot as plt\n",
        "import warnings\n",
        "warnings.simplefilter('ignore')"
      ]
    },
    {
      "cell_type": "code",
      "execution_count": 4,
      "metadata": {
        "id": "HMXjmGpDstPG"
      },
      "outputs": [],
      "source": [
        "from pyreadr import read_r\n",
        "\n",
        "sys.path.insert(1, \"./hdmpy\")"
      ]
    },
    {
      "cell_type": "markdown",
      "metadata": {
        "id": "lJ4tQ_uestPH"
      },
      "source": [
        "## Introduction"
      ]
    },
    {
      "cell_type": "markdown",
      "metadata": {
        "id": "9S5-dpYIstPH"
      },
      "source": [
        "We provide an additional empirical example of partialling-out with Lasso to estimate the regression coefficient $\\beta_1$ in the high-dimensional linear regression model:\n",
        "  $$\n",
        "  Y = \\beta_1 D +  \\beta_2'W + \\epsilon.\n",
        "  $$\n",
        "  \n",
        "Specifically, we are interested in how the rates  at which economies of different countries grow ($Y$) are related to the initial wealth levels in each country ($D$) controlling for country's institutional, educational, and other similar characteristics ($W$).\n",
        "  \n",
        "The relationship is captured by $\\beta_1$, the *speed of convergence/divergence*, which measures the speed at which poor countries catch up $(\\beta_1< 0)$ or fall behind $(\\beta_1> 0)$ rich countries, after controlling for $W$. Our inference question here is: do poor countries grow faster than rich countries, controlling for educational and other characteristics? In other words, is the speed of convergence negative: $ \\beta_1 <0?$ This is the Convergence Hypothesis predicted by the Solow Growth Model. This is a structural economic model. Under some strong assumptions, that we won't state here, the predictive exercise we are doing here can be given causal interpretation.\n"
      ]
    },
    {
      "cell_type": "markdown",
      "metadata": {
        "id": "7BUqjAIBstPI"
      },
      "source": [
        "The outcome $Y$ is the realized annual growth rate of a country's wealth  (Gross Domestic Product per capita). The target regressor ($D$) is the initial level of the country's wealth. The target parameter $\\beta_1$ is the speed of convergence, which measures the speed at which poor countries catch up with rich countries. The controls ($W$) include measures of education levels, quality of institutions, trade openness, and political stability in the country."
      ]
    },
    {
      "cell_type": "markdown",
      "metadata": {
        "id": "jOnK7_gdstPJ"
      },
      "source": [
        "## Data analysis\n"
      ]
    },
    {
      "cell_type": "markdown",
      "metadata": {
        "id": "cVnFmY0YstPK"
      },
      "source": [
        "We consider the data set GrowthData which is included in the package *hdm*. First, let us load the data set to get familiar with the data."
      ]
    },
    {
      "cell_type": "code",
      "execution_count": 5,
      "metadata": {
        "id": "bgEZMfsgstPK"
      },
      "outputs": [],
      "source": [
        "# I downloaded the data that the author used\n",
        "fname = \"https://github.com/CausalAIBook/MetricsMLNotebooks/blob/main/data/GrowthData.rda?raw=true\"\n",
        "growth_read = read_r(wget.download(fname))\n",
        "\n",
        "# Extracting the data frame from rdata_read\n",
        "growth = growth_read['GrowthData']"
      ]
    },
    {
      "cell_type": "markdown",
      "metadata": {
        "id": "daYwWCzAstPK"
      },
      "source": [
        "We determine the dimension of our data set."
      ]
    },
    {
      "cell_type": "markdown",
      "metadata": {
        "id": "kKjo4g2tstPL",
        "papermill": {
          "duration": 0.025013,
          "end_time": "2021-01-20T08:46:45.109042",
          "exception": false,
          "start_time": "2021-01-20T08:46:45.084029",
          "status": "completed"
        },
        "tags": []
      },
      "source": [
        "The sample contains $90$ countries and $63$ controls."
      ]
    },
    {
      "cell_type": "code",
      "execution_count": null,
      "metadata": {
        "id": "nyzB9b7-stPM"
      },
      "outputs": [],
      "source": [
        "growth.shape"
      ]
    },
    {
      "cell_type": "markdown",
      "metadata": {
        "id": "VyZvlMA1stPM",
        "papermill": {
          "duration": 0.024124,
          "end_time": "2021-01-20T08:46:45.157510",
          "exception": false,
          "start_time": "2021-01-20T08:46:45.133386",
          "status": "completed"
        },
        "tags": []
      },
      "source": [
        "Thus $p \\approx 60$, $n=90$ and $p/n$ is not small. We expect the least squares method to provide a poor estimate of $\\beta_1$.  We expect the method based on partialling-out with Lasso to provide a high quality estimate of $\\beta_1$.\n",
        "To check this hypothesis, we analyze the relation between the output variable $Y$ and the other country's characteristics by running a linear regression in the first step."
      ]
    },
    {
      "cell_type": "code",
      "execution_count": 8,
      "metadata": {
        "id": "wjrs2JvvstPM"
      },
      "outputs": [],
      "source": [
        "import statsmodels.api as sm"
      ]
    },
    {
      "cell_type": "code",
      "execution_count": 6,
      "metadata": {
        "id": "5MdYGz9FstPM"
      },
      "outputs": [],
      "source": [
        "y = growth['Outcome']\n",
        "X = growth.drop('Outcome', axis=1)"
      ]
    },
    {
      "cell_type": "code",
      "execution_count": 9,
      "metadata": {
        "id": "onzm4E74stPN"
      },
      "outputs": [],
      "source": [
        "reg_ols = sm.OLS(y, X).fit(cov_type='HC1')\n"
      ]
    },
    {
      "cell_type": "code",
      "execution_count": 10,
      "metadata": {
        "id": "DGZ6SjkostPN"
      },
      "outputs": [],
      "source": [
        "# output: estimated regression coefficient corresponding to the target regressor\n",
        "est_ols = reg_ols.params['gdpsh465']\n",
        "# output: HC1 std. error\n",
        "std_ols = reg_ols.HC1_se['gdpsh465']\n",
        "# output: 95% confidence interval\n",
        "lower_ci, upper_ci = reg_ols.conf_int(alpha=0.05).loc['gdpsh465'].values"
      ]
    },
    {
      "cell_type": "markdown",
      "metadata": {
        "id": "tfCnh-HRstPN"
      },
      "source": [
        "## Summarize OLS results"
      ]
    },
    {
      "cell_type": "code",
      "execution_count": 11,
      "metadata": {
        "colab": {
          "base_uri": "https://localhost:8080/",
          "height": 89
        },
        "id": "a4nXHBrrstPO",
        "outputId": "e94af76d-a13f-4d79-9784-db4a60c8eccf"
      },
      "outputs": [
        {
          "output_type": "execute_result",
          "data": {
            "text/plain": [
              "     Estimator  Std. Error  lower bound CI  upper bound CI\n",
              "OLS  -0.009378    0.032421       -0.072922        0.054166"
            ],
            "text/html": [
              "\n",
              "  <div id=\"df-c64d5b75-1a79-402b-b57d-0eedad94a275\" class=\"colab-df-container\">\n",
              "    <div>\n",
              "<style scoped>\n",
              "    .dataframe tbody tr th:only-of-type {\n",
              "        vertical-align: middle;\n",
              "    }\n",
              "\n",
              "    .dataframe tbody tr th {\n",
              "        vertical-align: top;\n",
              "    }\n",
              "\n",
              "    .dataframe thead th {\n",
              "        text-align: right;\n",
              "    }\n",
              "</style>\n",
              "<table border=\"1\" class=\"dataframe\">\n",
              "  <thead>\n",
              "    <tr style=\"text-align: right;\">\n",
              "      <th></th>\n",
              "      <th>Estimator</th>\n",
              "      <th>Std. Error</th>\n",
              "      <th>lower bound CI</th>\n",
              "      <th>upper bound CI</th>\n",
              "    </tr>\n",
              "  </thead>\n",
              "  <tbody>\n",
              "    <tr>\n",
              "      <th>OLS</th>\n",
              "      <td>-0.009378</td>\n",
              "      <td>0.032421</td>\n",
              "      <td>-0.072922</td>\n",
              "      <td>0.054166</td>\n",
              "    </tr>\n",
              "  </tbody>\n",
              "</table>\n",
              "</div>\n",
              "    <div class=\"colab-df-buttons\">\n",
              "\n",
              "  <div class=\"colab-df-container\">\n",
              "    <button class=\"colab-df-convert\" onclick=\"convertToInteractive('df-c64d5b75-1a79-402b-b57d-0eedad94a275')\"\n",
              "            title=\"Convert this dataframe to an interactive table.\"\n",
              "            style=\"display:none;\">\n",
              "\n",
              "  <svg xmlns=\"http://www.w3.org/2000/svg\" height=\"24px\" viewBox=\"0 -960 960 960\">\n",
              "    <path d=\"M120-120v-720h720v720H120Zm60-500h600v-160H180v160Zm220 220h160v-160H400v160Zm0 220h160v-160H400v160ZM180-400h160v-160H180v160Zm440 0h160v-160H620v160ZM180-180h160v-160H180v160Zm440 0h160v-160H620v160Z\"/>\n",
              "  </svg>\n",
              "    </button>\n",
              "\n",
              "  <style>\n",
              "    .colab-df-container {\n",
              "      display:flex;\n",
              "      gap: 12px;\n",
              "    }\n",
              "\n",
              "    .colab-df-convert {\n",
              "      background-color: #E8F0FE;\n",
              "      border: none;\n",
              "      border-radius: 50%;\n",
              "      cursor: pointer;\n",
              "      display: none;\n",
              "      fill: #1967D2;\n",
              "      height: 32px;\n",
              "      padding: 0 0 0 0;\n",
              "      width: 32px;\n",
              "    }\n",
              "\n",
              "    .colab-df-convert:hover {\n",
              "      background-color: #E2EBFA;\n",
              "      box-shadow: 0px 1px 2px rgba(60, 64, 67, 0.3), 0px 1px 3px 1px rgba(60, 64, 67, 0.15);\n",
              "      fill: #174EA6;\n",
              "    }\n",
              "\n",
              "    .colab-df-buttons div {\n",
              "      margin-bottom: 4px;\n",
              "    }\n",
              "\n",
              "    [theme=dark] .colab-df-convert {\n",
              "      background-color: #3B4455;\n",
              "      fill: #D2E3FC;\n",
              "    }\n",
              "\n",
              "    [theme=dark] .colab-df-convert:hover {\n",
              "      background-color: #434B5C;\n",
              "      box-shadow: 0px 1px 3px 1px rgba(0, 0, 0, 0.15);\n",
              "      filter: drop-shadow(0px 1px 2px rgba(0, 0, 0, 0.3));\n",
              "      fill: #FFFFFF;\n",
              "    }\n",
              "  </style>\n",
              "\n",
              "    <script>\n",
              "      const buttonEl =\n",
              "        document.querySelector('#df-c64d5b75-1a79-402b-b57d-0eedad94a275 button.colab-df-convert');\n",
              "      buttonEl.style.display =\n",
              "        google.colab.kernel.accessAllowed ? 'block' : 'none';\n",
              "\n",
              "      async function convertToInteractive(key) {\n",
              "        const element = document.querySelector('#df-c64d5b75-1a79-402b-b57d-0eedad94a275');\n",
              "        const dataTable =\n",
              "          await google.colab.kernel.invokeFunction('convertToInteractive',\n",
              "                                                    [key], {});\n",
              "        if (!dataTable) return;\n",
              "\n",
              "        const docLinkHtml = 'Like what you see? Visit the ' +\n",
              "          '<a target=\"_blank\" href=https://colab.research.google.com/notebooks/data_table.ipynb>data table notebook</a>'\n",
              "          + ' to learn more about interactive tables.';\n",
              "        element.innerHTML = '';\n",
              "        dataTable['output_type'] = 'display_data';\n",
              "        await google.colab.output.renderOutput(dataTable, element);\n",
              "        const docLink = document.createElement('div');\n",
              "        docLink.innerHTML = docLinkHtml;\n",
              "        element.appendChild(docLink);\n",
              "      }\n",
              "    </script>\n",
              "  </div>\n",
              "\n",
              "\n",
              "  <div id=\"id_d22c0ef3-3823-44ba-8352-1ba99384982d\">\n",
              "    <style>\n",
              "      .colab-df-generate {\n",
              "        background-color: #E8F0FE;\n",
              "        border: none;\n",
              "        border-radius: 50%;\n",
              "        cursor: pointer;\n",
              "        display: none;\n",
              "        fill: #1967D2;\n",
              "        height: 32px;\n",
              "        padding: 0 0 0 0;\n",
              "        width: 32px;\n",
              "      }\n",
              "\n",
              "      .colab-df-generate:hover {\n",
              "        background-color: #E2EBFA;\n",
              "        box-shadow: 0px 1px 2px rgba(60, 64, 67, 0.3), 0px 1px 3px 1px rgba(60, 64, 67, 0.15);\n",
              "        fill: #174EA6;\n",
              "      }\n",
              "\n",
              "      [theme=dark] .colab-df-generate {\n",
              "        background-color: #3B4455;\n",
              "        fill: #D2E3FC;\n",
              "      }\n",
              "\n",
              "      [theme=dark] .colab-df-generate:hover {\n",
              "        background-color: #434B5C;\n",
              "        box-shadow: 0px 1px 3px 1px rgba(0, 0, 0, 0.15);\n",
              "        filter: drop-shadow(0px 1px 2px rgba(0, 0, 0, 0.3));\n",
              "        fill: #FFFFFF;\n",
              "      }\n",
              "    </style>\n",
              "    <button class=\"colab-df-generate\" onclick=\"generateWithVariable('table')\"\n",
              "            title=\"Generate code using this dataframe.\"\n",
              "            style=\"display:none;\">\n",
              "\n",
              "  <svg xmlns=\"http://www.w3.org/2000/svg\" height=\"24px\"viewBox=\"0 0 24 24\"\n",
              "       width=\"24px\">\n",
              "    <path d=\"M7,19H8.4L18.45,9,17,7.55,7,17.6ZM5,21V16.75L18.45,3.32a2,2,0,0,1,2.83,0l1.4,1.43a1.91,1.91,0,0,1,.58,1.4,1.91,1.91,0,0,1-.58,1.4L9.25,21ZM18.45,9,17,7.55Zm-12,3A5.31,5.31,0,0,0,4.9,8.1,5.31,5.31,0,0,0,1,6.5,5.31,5.31,0,0,0,4.9,4.9,5.31,5.31,0,0,0,6.5,1,5.31,5.31,0,0,0,8.1,4.9,5.31,5.31,0,0,0,12,6.5,5.46,5.46,0,0,0,6.5,12Z\"/>\n",
              "  </svg>\n",
              "    </button>\n",
              "    <script>\n",
              "      (() => {\n",
              "      const buttonEl =\n",
              "        document.querySelector('#id_d22c0ef3-3823-44ba-8352-1ba99384982d button.colab-df-generate');\n",
              "      buttonEl.style.display =\n",
              "        google.colab.kernel.accessAllowed ? 'block' : 'none';\n",
              "\n",
              "      buttonEl.onclick = () => {\n",
              "        google.colab.notebook.generateWithVariable('table');\n",
              "      }\n",
              "      })();\n",
              "    </script>\n",
              "  </div>\n",
              "\n",
              "    </div>\n",
              "  </div>\n"
            ],
            "application/vnd.google.colaboratory.intrinsic+json": {
              "type": "dataframe",
              "variable_name": "table",
              "summary": "{\n  \"name\": \"table\",\n  \"rows\": 1,\n  \"fields\": [\n    {\n      \"column\": \"Estimator\",\n      \"properties\": {\n        \"dtype\": \"number\",\n        \"std\": null,\n        \"min\": -0.009377988783847652,\n        \"max\": -0.009377988783847652,\n        \"num_unique_values\": 1,\n        \"samples\": [\n          -0.009377988783847652\n        ],\n        \"semantic_type\": \"\",\n        \"description\": \"\"\n      }\n    },\n    {\n      \"column\": \"Std. Error\",\n      \"properties\": {\n        \"dtype\": \"number\",\n        \"std\": null,\n        \"min\": 0.0324211014608166,\n        \"max\": 0.0324211014608166,\n        \"num_unique_values\": 1,\n        \"samples\": [\n          0.0324211014608166\n        ],\n        \"semantic_type\": \"\",\n        \"description\": \"\"\n      }\n    },\n    {\n      \"column\": \"lower bound CI\",\n      \"properties\": {\n        \"dtype\": \"number\",\n        \"std\": null,\n        \"min\": -0.07292217998616712,\n        \"max\": -0.07292217998616712,\n        \"num_unique_values\": 1,\n        \"samples\": [\n          -0.07292217998616712\n        ],\n        \"semantic_type\": \"\",\n        \"description\": \"\"\n      }\n    },\n    {\n      \"column\": \"upper bound CI\",\n      \"properties\": {\n        \"dtype\": \"number\",\n        \"std\": null,\n        \"min\": 0.054166202418471816,\n        \"max\": 0.054166202418471816,\n        \"num_unique_values\": 1,\n        \"samples\": [\n          0.054166202418471816\n        ],\n        \"semantic_type\": \"\",\n        \"description\": \"\"\n      }\n    }\n  ]\n}"
            }
          },
          "metadata": {},
          "execution_count": 11
        }
      ],
      "source": [
        "table = pd.DataFrame(columns=[\"Estimator\", \"Std. Error\", \"lower bound CI\", \"upper bound CI\"])\n",
        "table.loc['OLS'] = [est_ols, std_ols, lower_ci, upper_ci]\n",
        "table"
      ]
    },
    {
      "cell_type": "markdown",
      "metadata": {
        "id": "ZxPC6gCFstPO"
      },
      "source": [
        "Least squares provides a rather noisy estimate (high standard error) of the\n",
        "speed of convergence, and does not allow us to answer the question\n",
        "about the convergence hypothesis since the confidence interval includes zero.\n",
        "\n",
        "In contrast, we can use the partialling-out approach based on lasso regression (\"Double Lasso\")."
      ]
    },
    {
      "cell_type": "code",
      "execution_count": 43,
      "metadata": {
        "id": "AVAL-WUxstPO"
      },
      "outputs": [],
      "source": [
        "y = growth['Outcome'].values\n",
        "W = growth.drop(['Outcome',  'gdpsh465'], axis=1)\n",
        "D = growth['gdpsh465'].values"
      ]
    },
    {
      "cell_type": "code",
      "source": [
        "res_y = sm.OLS(y, W).fit(cov_type='HC1').resid\n",
        "res_D = sm.OLS(D,W).fit(cov_type='HC1').resid\n",
        "\n",
        "r_y = pd.DataFrame(res_y, columns=['r_y'])\n",
        "r_D = pd.DataFrame(res_D, columns=['r_D'])"
      ],
      "metadata": {
        "id": "AgIpfvYMulCY"
      },
      "execution_count": 44,
      "outputs": []
    },
    {
      "cell_type": "code",
      "source": [
        "reg_ols = sm.OLS(r_y, r_D).fit(cov_type='HC1')\n",
        "# output: estimated regression coefficient corresponding to the target regressor\n",
        "reg_ols.params"
      ],
      "metadata": {
        "id": "tD2tKPSvvM87",
        "outputId": "fd342ad3-c928-4cd1-d5c5-d7b543392a48",
        "colab": {
          "base_uri": "https://localhost:8080/",
          "height": 115
        }
      },
      "execution_count": 45,
      "outputs": [
        {
          "output_type": "execute_result",
          "data": {
            "text/plain": [
              "r_D   -0.009378\n",
              "dtype: float64"
            ],
            "text/html": [
              "<div>\n",
              "<style scoped>\n",
              "    .dataframe tbody tr th:only-of-type {\n",
              "        vertical-align: middle;\n",
              "    }\n",
              "\n",
              "    .dataframe tbody tr th {\n",
              "        vertical-align: top;\n",
              "    }\n",
              "\n",
              "    .dataframe thead th {\n",
              "        text-align: right;\n",
              "    }\n",
              "</style>\n",
              "<table border=\"1\" class=\"dataframe\">\n",
              "  <thead>\n",
              "    <tr style=\"text-align: right;\">\n",
              "      <th></th>\n",
              "      <th>0</th>\n",
              "    </tr>\n",
              "  </thead>\n",
              "  <tbody>\n",
              "    <tr>\n",
              "      <th>r_D</th>\n",
              "      <td>-0.009378</td>\n",
              "    </tr>\n",
              "  </tbody>\n",
              "</table>\n",
              "</div><br><label><b>dtype:</b> float64</label>"
            ]
          },
          "metadata": {},
          "execution_count": 45
        }
      ]
    },
    {
      "cell_type": "markdown",
      "metadata": {
        "id": "1XFIq9k0stPP"
      },
      "source": [
        "## Method 1 - Lasso with Theoretical Setting of Penalty using HDMPY"
      ]
    },
    {
      "cell_type": "markdown",
      "metadata": {
        "id": "bhkKQO8kstPP"
      },
      "source": [
        "While cross validation is commonly employed for choosing penalty parameters in Lasso, it can be very noisy and tends to choose relatively small penalty leading to some overfitting. For this reason, one should not use cross validation to choose tuning parameters unless sample splitting is employed. We illustrate the use of sample combined with cross validation in later chapters in the book. Since we are using the full sample here, it is much better (and theoretically valid) to use penalties that provably control overfitting, which is what we do here.\n",
        "\n",
        "We report the results using cross validation at the end of this notebook for comparison. There, we observe overfitting for the prediction of the outcome."
      ]
    },
    {
      "cell_type": "code",
      "execution_count": null,
      "metadata": {
        "id": "LUhRELnwstPP"
      },
      "outputs": [],
      "source": [
        "res_y = hdmpy.rlasso(W, y, post=False).est['residuals']\n",
        "res_D = hdmpy.rlasso(W, D, post=False).est['residuals']\n",
        "\n",
        "r_y = pd.DataFrame(res_y, columns=['r_y'])\n",
        "r_D = pd.DataFrame(res_D, columns=['r_D'])"
      ]
    },
    {
      "cell_type": "code",
      "execution_count": null,
      "metadata": {
        "id": "bZQPwxAfstPP"
      },
      "outputs": [],
      "source": [
        "# OLS regression\n",
        "reg_ols = sm.OLS(r_y, r_D).fit(cov_type='HC1')"
      ]
    },
    {
      "cell_type": "code",
      "execution_count": null,
      "metadata": {
        "id": "DSNHIS_dstPP"
      },
      "outputs": [],
      "source": [
        "reg_ols.params['r_D']"
      ]
    },
    {
      "cell_type": "code",
      "execution_count": null,
      "metadata": {
        "id": "mIiFjqtestPP"
      },
      "outputs": [],
      "source": [
        "est = reg_ols.params['r_D']\n",
        "stderr = reg_ols.HC1_se['r_D']\n",
        "lower_ci, upper_ci = reg_ols.conf_int(alpha=0.05).loc['r_D'].values\n",
        "table.loc['Double Lasso'] = [est, stderr, lower_ci, upper_ci]\n",
        "table"
      ]
    },
    {
      "cell_type": "markdown",
      "metadata": {
        "id": "j2fVTLyqstPP"
      },
      "source": [
        "The least square method provides a rather noisy estimate of the speed of convergence. We can not answer the question if poor countries grow faster than rich countries. The least square method does not work when the ratio $p/n$ is large.\n",
        "\n",
        "In sharp contrast, partialling-out via Lasso provides a more precise estimate. The Lasso based point estimate is $-5\\%$ and the $95\\%$ confidence interval for the (annual) rate of convergence $[-7.8\\%,-2.2\\%]$ only includes negative numbers. This empirical evidence does support the convergence hypothesis."
      ]
    },
    {
      "cell_type": "markdown",
      "metadata": {
        "id": "_jfpXjJistPQ"
      },
      "source": [
        "## Method 2: Using Cross-Validated Lasso"
      ]
    },
    {
      "cell_type": "markdown",
      "metadata": {
        "id": "g0KAUNMYl9Bv"
      },
      "source": [
        "This section is for illustration purposes only. Given that we are using the full sample, cross validation *should not* be used for choosing tuning parameters here. Cross validation tends to (mildly) overfit, and this overfitting can lead to substantial problems when inference about parameters is the goal."
      ]
    },
    {
      "cell_type": "code",
      "execution_count": null,
      "metadata": {
        "id": "-unoL91DstPQ"
      },
      "outputs": [],
      "source": [
        "from sklearn import linear_model\n",
        "from sklearn.preprocessing import StandardScaler\n",
        "from sklearn.pipeline import make_pipeline\n",
        "from sklearn.model_selection import KFold\n",
        "\n",
        "# Choose penalty based on KFold cross validation\n",
        "# Given small sample size, we use an aggressive number of 20 folds\n",
        "cv = KFold(n_splits=20, shuffle=True, random_state=123)\n",
        "model_y = make_pipeline(StandardScaler(),\n",
        "                        linear_model.LassoCV(n_alphas=10, cv=cv, max_iter=10000))\n",
        "\n",
        "res_y = y - model_y.fit(W, y).predict(W)\n",
        "r_y = pd.DataFrame(res_y, columns=['r_y'])\n",
        "\n",
        "model_d = make_pipeline(StandardScaler(),\n",
        "                        linear_model.LassoCV(n_alphas=10, cv=cv, max_iter=10000))\n",
        "res_D = D - model_d.fit(W, D).predict(W)\n",
        "r_D = pd.DataFrame(res_D, columns=['r_D'])"
      ]
    },
    {
      "cell_type": "code",
      "execution_count": null,
      "metadata": {
        "id": "jp_tzQASstPQ"
      },
      "outputs": [],
      "source": [
        "# OLS regression\n",
        "reg_ols = sm.OLS(r_y, r_D).fit(cov_type='HC1')"
      ]
    },
    {
      "cell_type": "code",
      "execution_count": null,
      "metadata": {
        "id": "QRFkAf_PstPR"
      },
      "outputs": [],
      "source": [
        "est = reg_ols.params['r_D']\n",
        "stderr = reg_ols.HC1_se['r_D']\n",
        "lower_ci, upper_ci = reg_ols.conf_int(alpha=0.05).loc['r_D'].values\n",
        "table.loc['Double Lasso-CV'] = [est, stderr, lower_ci, upper_ci]\n",
        "table"
      ]
    },
    {
      "cell_type": "markdown",
      "metadata": {
        "id": "YC-zlwPRstPR"
      },
      "source": [
        "We find that the outcome model chooses too small of a penalty based on cross-validation, leading to overfitting of the outcome and tiny outcome residuals. This leads to artificially small standard errors and a zero treatment effect. Theoretically driven penalty should be preferred for such small sample sizes."
      ]
    },
    {
      "cell_type": "code",
      "execution_count": null,
      "metadata": {
        "id": "tthzbEkUstPR"
      },
      "outputs": [],
      "source": [
        "plt.plot(model_y[-1].alphas_, 1 - model_y[-1].mse_path_.mean(axis=1) / np.var(y))\n",
        "plt.title('Outcome Lasso-CV Model: Out-of-sample R-squared as function of penalty level')\n",
        "plt.show()\n",
        "plt.title('Treatment Lasso-CV Model: Out-of-sample R-squared as function of penalty level')\n",
        "plt.plot(model_d[-1].alphas_, 1 - model_d[-1].mse_path_.mean(axis=1) / np.var(D))\n",
        "plt.show()"
      ]
    },
    {
      "cell_type": "markdown",
      "source": [
        "> *\"El coeficiente de una variable en una regresión múltiple es exactamente el mismo que obtienes si primero 'parcias out' todas las demás variables...\"*\n",
        "\n",
        "---\n",
        "\n",
        "### **Teorema de Frisch–Waugh–Lovell (versión OLS)**\n",
        "\n",
        "\n",
        "$$\n",
        "\\hat{\\gamma}_{YW} = \\arg \\min_{\\gamma \\in \\mathbb{R}^p} \\sum_{i} (Y_i - \\gamma' W_i)^2\n",
        "$$\n",
        "\n",
        "$$\n",
        "\\hat{\\gamma}_{DW} = \\arg \\min_{\\gamma \\in \\mathbb{R}^p} \\sum_{i} (D_i - \\gamma' W_i)^2\n",
        "$$\n",
        "\n",
        "Donde:\n",
        "- $Y_i$: es la variable objetivo\n",
        "- $D_i$: regresor de interés\n",
        "- $W_i$: Otros regresores\n",
        "\n",
        "\n",
        "\n",
        "\n",
        "\n",
        "$$\n",
        "\\tilde{Y}_i = Y_i - \\hat{\\gamma}_{YW}' W_i\n",
        "$$\n",
        "\n",
        "$$\n",
        "\\tilde{D}_i = D_i - \\hat{\\gamma}_{DW}' W_i\n",
        "$$\n",
        "\n",
        "\n",
        "3. Corremos una regresión por OLS de $\\tilde{Y}_i$ sobre $\\tilde{D}_i$\n",
        "\n",
        "El coeficiente estimado sobre $\\tilde{D}_i$ es **exactamente igual** al estimado para $D_i$ en la regresión múltiple original de $Y_i$ sobre $D_i$ y $W_i$.\n",
        "\n",
        "$\\tilde{Y}_i$ sobre $\\tilde{D}_i$:\n",
        "\n",
        "$$\n",
        "\\tilde{Y}_i = \\alpha + \\theta \\tilde{D}_i + u_i\n",
        "$$\n",
        "\n",
        "El estimador $\\hat{\\theta}$ deber ser **igual** al coeficiente $\\hat{\\beta}_D$ en la regresión múltiple original:\n",
        "\n",
        "$$\n",
        "Y_i = \\alpha + \\beta_D D_i + \\beta_W' W_i + \\varepsilon_i\n",
        "$$\n"
      ],
      "metadata": {
        "id": "4W1mPa0CIg_0"
      }
    }
  ],
  "metadata": {
    "colab": {
      "provenance": []
    },
    "hide_input": false,
    "kernelspec": {
      "display_name": "Python 3 (ipykernel)",
      "language": "python",
      "name": "python3"
    },
    "language_info": {
      "codemirror_mode": {
        "name": "ipython",
        "version": 3
      },
      "file_extension": ".py",
      "mimetype": "text/x-python",
      "name": "python",
      "nbconvert_exporter": "python",
      "pygments_lexer": "ipython3",
      "version": "3.11.5"
    }
  },
  "nbformat": 4,
  "nbformat_minor": 0
}